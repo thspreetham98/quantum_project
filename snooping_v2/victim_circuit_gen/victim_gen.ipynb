{
 "cells": [
  {
   "cell_type": "code",
   "execution_count": null,
   "metadata": {},
   "outputs": [],
   "source": [
    "from qiskit import QuantumCircuit\n",
    "import numpy as np"
   ]
  },
  {
   "cell_type": "code",
   "execution_count": null,
   "metadata": {},
   "outputs": [],
   "source": [
    "def random_2_qubit_circuit_one_way_cnot(no_of_cnots, depth) -> QuantumCircuit:\n",
    "    if depth < no_of_cnots:\n",
    "        raise ValueError(\"depth should be greater than no_of_cnots\")\n",
    "    qc = QuantumCircuit(2)\n",
    "    cnot_count = 0\n",
    "    for i in range(depth, 0, -1):\n",
    "        prob_of_cnot = (no_of_cnots-cnot_count)/i\n",
    "        p = np.random.random()\n",
    "        if p > prob_of_cnot:\n",
    "            for q in range(2):\n",
    "                op_type = np.random.randint(0, 4)\n",
    "                match op_type:\n",
    "                    case 0:\n",
    "                        qc.rz(np.random.random()*(2*np.pi), q)\n",
    "                    case 1:\n",
    "                        qc.sx(q)\n",
    "                    case 2:\n",
    "                        qc.x(q)\n",
    "                    case 3:\n",
    "                        qc.id(q)\n",
    "        else:\n",
    "            qc.cx(0, 1)\n",
    "            cnot_count += 1\n",
    "    return qc"
   ]
  },
  {
   "cell_type": "code",
   "execution_count": null,
   "metadata": {},
   "outputs": [],
   "source": [
    "def random_2_qubit_circuit_two_way_cnot(no_of_cnots, depth) -> QuantumCircuit:\n",
    "    if depth < no_of_cnots:\n",
    "        raise ValueError(\"depth should be greater than no_of_cnots\")\n",
    "    qc = QuantumCircuit(2)\n",
    "    cnot_count = 0\n",
    "    for i in range(depth, 0, -1):\n",
    "        prob_of_cnot = (no_of_cnots-cnot_count)/i\n",
    "        p = np.random.random()\n",
    "        if p > prob_of_cnot:\n",
    "            for q in range(2):\n",
    "                op_type = np.random.randint(0, 4)\n",
    "                match op_type:\n",
    "                    case 0:\n",
    "                        qc.rz(np.random.random()*(2*np.pi), q)\n",
    "                    case 1:\n",
    "                        qc.sx(q)\n",
    "                    case 2:\n",
    "                        qc.x(q)\n",
    "                    case 3:\n",
    "                        qc.id(q)\n",
    "        else:\n",
    "            if np.random.randint(2) == 0:\n",
    "                qc.cx(0, 1)\n",
    "            else:\n",
    "                qc.cx(1, 0)\n",
    "            cnot_count += 1\n",
    "    return qc"
   ]
  }
 ],
 "metadata": {
  "kernelspec": {
   "display_name": "bench",
   "language": "python",
   "name": "python3"
  },
  "language_info": {
   "codemirror_mode": {
    "name": "ipython",
    "version": 3
   },
   "file_extension": ".py",
   "mimetype": "text/x-python",
   "name": "python",
   "nbconvert_exporter": "python",
   "pygments_lexer": "ipython3",
   "version": "3.11.0"
  },
  "orig_nbformat": 4
 },
 "nbformat": 4,
 "nbformat_minor": 2
}
