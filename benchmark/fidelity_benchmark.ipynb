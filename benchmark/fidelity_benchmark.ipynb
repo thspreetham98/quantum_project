{
 "cells": [
  {
   "cell_type": "markdown",
   "metadata": {},
   "source": [
    "# Import"
   ]
  },
  {
   "cell_type": "code",
   "execution_count": 1,
   "metadata": {},
   "outputs": [],
   "source": [
    "import matplotlib.pyplot as plt\n",
    "import numpy as np\n",
    "\n",
    "import algorithms.bernstein_vazirani as bv\n",
    "import algorithms.qft as qft\n",
    "\n",
    "from qiskit import QuantumCircuit, transpile, Aer\n",
    "from qiskit_ibm_provider import IBMProvider\n",
    "from qiskit.tools.monitor import job_monitor\n",
    "from qiskit.quantum_info.analysis import hellinger_fidelity"
   ]
  },
  {
   "cell_type": "markdown",
   "metadata": {},
   "source": [
    "# Parameters"
   ]
  },
  {
   "cell_type": "code",
   "execution_count": 2,
   "metadata": {},
   "outputs": [],
   "source": [
    "def qiskit_opt_0(qc: QuantumCircuit, backend):\n",
    "    return transpile(qc, backend, optimization_level=0)\n",
    "\n",
    "def qiskit_opt_3(qc: QuantumCircuit, backend):\n",
    "    return transpile(qc, backend, optimization_level=3)\n",
    "\n",
    "def qiskit_opt_3_sabre(qc: QuantumCircuit, backend):\n",
    "    return transpile(qc, backend, optimization_level=3, layout_method='sabre', routing_method='sabre')"
   ]
  },
  {
   "cell_type": "code",
   "execution_count": 3,
   "metadata": {},
   "outputs": [],
   "source": [
    "min_qubits, max_qubits = 4, 7\n",
    "algorithms = { 'Bernstein Vazirani': bv, 'QFT': qft }\n",
    "techniques = { \n",
    "    'Qiskit Opt 0': qiskit_opt_0, \n",
    "    'Qiskit Opt 3': qiskit_opt_3, \n",
    "    'Qiskit Opt 3 Sabre': qiskit_opt_3_sabre \n",
    "}"
   ]
  },
  {
   "cell_type": "code",
   "execution_count": 4,
   "metadata": {},
   "outputs": [],
   "source": [
    "provider = IBMProvider()\n",
    "backend = provider.get_backend(\"ibm_oslo\")"
   ]
  },
  {
   "cell_type": "code",
   "execution_count": 5,
   "metadata": {},
   "outputs": [],
   "source": [
    "from qiskit.providers.fake_provider import FakeOslo\n",
    "fake_backend = FakeOslo()"
   ]
  },
  {
   "attachments": {},
   "cell_type": "markdown",
   "metadata": {},
   "source": [
    "# Create Transpiled Circuits"
   ]
  },
  {
   "cell_type": "code",
   "execution_count": 6,
   "metadata": {},
   "outputs": [],
   "source": [
    "qcs = []\n",
    "tqcs = []\n",
    "cx_counts = []\n",
    "\n",
    "for al_name, al in algorithms.items():\n",
    "    for n in range(min_qubits, max_qubits+1):\n",
    "        qc = al.test(n)\n",
    "        qcs.append(qc)\n",
    "        for t_name, t in techniques.items():\n",
    "            tqc = t(qc, backend)\n",
    "            tqcs.append(tqc)\n",
    "            cx_counts.append(tqc.count_ops()['cx'])"
   ]
  },
  {
   "attachments": {},
   "cell_type": "markdown",
   "metadata": {},
   "source": [
    "# Simulate QCs"
   ]
  },
  {
   "cell_type": "code",
   "execution_count": 7,
   "metadata": {},
   "outputs": [],
   "source": [
    "def simulate_classically(qc_list):\n",
    "    aer_sim = Aer.get_backend('aer_simulator')\n",
    "    tqc_list = transpile(qc_list, aer_sim)\n",
    "    job_sim = aer_sim.run(tqc_list, shots=1000)\n",
    "    results = job_sim.result()\n",
    "    return results"
   ]
  },
  {
   "cell_type": "code",
   "execution_count": 8,
   "metadata": {},
   "outputs": [
    {
     "data": {
      "text/plain": [
       "[{'111': 1000},\n",
       " {'1111': 1000},\n",
       " {'11111': 1000},\n",
       " {'111111': 1000},\n",
       " {'0000': 1000},\n",
       " {'00000': 1000},\n",
       " {'000000': 1000},\n",
       " {'0000000': 1000}]"
      ]
     },
     "metadata": {},
     "output_type": "display_data"
    }
   ],
   "source": [
    "sim_res_counts = simulate_classically(qcs).get_counts()\n",
    "display(sim_res_counts)"
   ]
  },
  {
   "attachments": {},
   "cell_type": "markdown",
   "metadata": {},
   "source": [
    "# Run on IBM QC"
   ]
  },
  {
   "cell_type": "code",
   "execution_count": 9,
   "metadata": {},
   "outputs": [],
   "source": [
    "# job = backend.run(tqcs, shots=1000)\n",
    "job = fake_backend.run(tqcs, shots=1000)"
   ]
  },
  {
   "cell_type": "code",
   "execution_count": 10,
   "metadata": {},
   "outputs": [],
   "source": [
    "# job_monitor(job, interval=2)"
   ]
  },
  {
   "cell_type": "code",
   "execution_count": 11,
   "metadata": {},
   "outputs": [],
   "source": [
    "def calculate_avg_cx_errors(backend):\n",
    "    cx_gates = [g for g in backend.properties().gates if g.gate == 'cx']\n",
    "    cx_error_rate = 0\n",
    "    for g in cx_gates:    \n",
    "        cx_error_rate += g.parameters[0].value\n",
    "\n",
    "    avg_cx_error_rate = cx_error_rate /len(cx_gates)\n",
    "    return avg_cx_error_rate"
   ]
  },
  {
   "cell_type": "code",
   "execution_count": 12,
   "metadata": {},
   "outputs": [
    {
     "name": "stdout",
     "output_type": "stream",
     "text": [
      "avg_cx_error_rate:  0.008230401598889053\n"
     ]
    }
   ],
   "source": [
    "avg_cx_error_rate = calculate_avg_cx_errors(backend)\n",
    "print('avg_cx_error_rate: ', avg_cx_error_rate)"
   ]
  },
  {
   "cell_type": "code",
   "execution_count": 13,
   "metadata": {},
   "outputs": [],
   "source": [
    "qc_res_counts = job.result().get_counts()"
   ]
  },
  {
   "attachments": {},
   "cell_type": "markdown",
   "metadata": {},
   "source": [
    "# Check Fidelities"
   ]
  },
  {
   "cell_type": "code",
   "execution_count": 31,
   "metadata": {},
   "outputs": [
    {
     "name": "stdout",
     "output_type": "stream",
     "text": [
      "Bernstein Vazirani: n=4\n",
      "Qiskit Opt 0: # cx gates: 9, fidelity=0.9030000000000001\n",
      "Qiskit Opt 3: # cx gates: 3, fidelity=0.949\n",
      "Qiskit Opt 3 Sabre: # cx gates: 3, fidelity=0.9210000000000002\n",
      "---\n",
      "Bernstein Vazirani: n=5\n",
      "Qiskit Opt 0: # cx gates: 25, fidelity=0.8039999999999999\n",
      "Qiskit Opt 3: # cx gates: 7, fidelity=0.909\n",
      "Qiskit Opt 3 Sabre: # cx gates: 7, fidelity=0.8909999999999999\n",
      "---\n",
      "Bernstein Vazirani: n=6\n",
      "Qiskit Opt 0: # cx gates: 14, fidelity=0.833\n",
      "Qiskit Opt 3: # cx gates: 7, fidelity=0.866\n",
      "Qiskit Opt 3 Sabre: # cx gates: 9, fidelity=0.8530000000000001\n",
      "---\n",
      "Bernstein Vazirani: n=7\n",
      "Qiskit Opt 0: # cx gates: 21, fidelity=0.774\n",
      "Qiskit Opt 3: # cx gates: 10, fidelity=0.82\n",
      "Qiskit Opt 3 Sabre: # cx gates: 8, fidelity=0.8699999999999999\n",
      "---\n",
      "------\n",
      "QFT: n=4\n",
      "Qiskit Opt 0: # cx gates: 30, fidelity=0.8240000000000001\n",
      "Qiskit Opt 3: # cx gates: 25, fidelity=0.809\n",
      "Qiskit Opt 3 Sabre: # cx gates: 25, fidelity=0.789\n",
      "---\n",
      "QFT: n=5\n",
      "Qiskit Opt 0: # cx gates: 65, fidelity=0.668\n",
      "Qiskit Opt 3: # cx gates: 41, fidelity=0.7249999999999999\n",
      "Qiskit Opt 3 Sabre: # cx gates: 41, fidelity=0.6949999999999998\n",
      "---\n",
      "QFT: n=6\n",
      "Qiskit Opt 0: # cx gates: 96, fidelity=0.5209999999999999\n",
      "Qiskit Opt 3: # cx gates: 64, fidelity=0.641\n",
      "Qiskit Opt 3 Sabre: # cx gates: 68, fidelity=0.584\n",
      "---\n",
      "QFT: n=7\n",
      "Qiskit Opt 0: # cx gates: 138, fidelity=0.3759999999999998\n",
      "Qiskit Opt 3: # cx gates: 96, fidelity=0.46099999999999974\n",
      "Qiskit Opt 3 Sabre: # cx gates: 90, fidelity=0.4969999999999999\n",
      "---\n",
      "------\n"
     ]
    }
   ],
   "source": [
    "n_s = max_qubits-min_qubits+1\n",
    "\n",
    "for al_index, al_name in enumerate(algorithms.keys()):\n",
    "    for n_index in range(n_s):\n",
    "        n = n_index + min_qubits\n",
    "        print('{}: n={}'.format(al_name, n))\n",
    "        sim_res_counts_n = sim_res_counts[al_index*(n_s) + n_index]\n",
    "        for t_index, t_name in enumerate(techniques.keys()):\n",
    "            counts_index = al_index*(n_s)*len(techniques) + n_index*len(techniques) + t_index\n",
    "            qc_counts = qc_res_counts[counts_index]\n",
    "            cx_count = cx_counts[counts_index]\n",
    "            hf = hellinger_fidelity(sim_res_counts_n, qc_counts)\n",
    "            print('{}: # cx gates: {}, fidelity={}'.format(t_name, cx_count, hf))\n",
    "        print('---')\n",
    "    print('------')\n",
    "            "
   ]
  },
  {
   "cell_type": "code",
   "execution_count": 15,
   "metadata": {},
   "outputs": [
    {
     "data": {
      "text/plain": [
       "{'0000': 1000}"
      ]
     },
     "execution_count": 15,
     "metadata": {},
     "output_type": "execute_result"
    }
   ],
   "source": [
    "sim_res_counts[-4]"
   ]
  },
  {
   "cell_type": "code",
   "execution_count": 16,
   "metadata": {},
   "outputs": [
    {
     "data": {
      "text/plain": [
       "{'1010': 3,\n",
       " '0001': 39,\n",
       " '0000': 789,\n",
       " '1000': 45,\n",
       " '0010': 36,\n",
       " '0100': 22,\n",
       " '0111': 3,\n",
       " '1100': 15,\n",
       " '1110': 15,\n",
       " '0011': 4,\n",
       " '1001': 14,\n",
       " '1111': 5,\n",
       " '0110': 7,\n",
       " '0101': 2,\n",
       " '1011': 1}"
      ]
     },
     "metadata": {},
     "output_type": "display_data"
    }
   ],
   "source": [
    "al_index = 1\n",
    "n_index = 0\n",
    "t_index = 2\n",
    "\n",
    "display(qc_res_counts[al_index*(n_s)*len(techniques) + n_index*len(techniques) + t_index])"
   ]
  },
  {
   "cell_type": "code",
   "execution_count": 17,
   "metadata": {},
   "outputs": [
    {
     "data": {
      "text/plain": [
       "0.789"
      ]
     },
     "metadata": {},
     "output_type": "display_data"
    }
   ],
   "source": [
    "hf = hellinger_fidelity(sim_res_counts[-4], qc_res_counts[al_index*(n_s)*len(techniques) + n_index*len(techniques) + t_index])\n",
    "display(hf)"
   ]
  },
  {
   "cell_type": "code",
   "execution_count": null,
   "metadata": {},
   "outputs": [],
   "source": []
  }
 ],
 "metadata": {
  "kernelspec": {
   "display_name": "qc",
   "language": "python",
   "name": "python3"
  },
  "language_info": {
   "codemirror_mode": {
    "name": "ipython",
    "version": 3
   },
   "file_extension": ".py",
   "mimetype": "text/x-python",
   "name": "python",
   "nbconvert_exporter": "python",
   "pygments_lexer": "ipython3",
   "version": "3.9.16"
  },
  "orig_nbformat": 4,
  "vscode": {
   "interpreter": {
    "hash": "2e585d592721c79519103c01e91debe96e55c40356773c3184851197f7a17905"
   }
  }
 },
 "nbformat": 4,
 "nbformat_minor": 2
}
