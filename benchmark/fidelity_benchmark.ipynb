{
 "cells": [
  {
   "cell_type": "markdown",
   "metadata": {},
   "source": [
    "# Import"
   ]
  },
  {
   "cell_type": "code",
   "execution_count": 1,
   "metadata": {},
   "outputs": [],
   "source": [
    "import matplotlib.pyplot as plt\n",
    "import numpy as np\n",
    "\n",
    "import algorithms.bernstein_vazirani as bv\n",
    "import algorithms.qft as qft\n",
    "\n",
    "from qiskit import QuantumCircuit, transpile, Aer\n",
    "from qiskit_ibm_provider import IBMProvider\n",
    "from qiskit.tools.monitor import job_monitor\n",
    "from qiskit.quantum_info.analysis import hellinger_fidelity\n",
    "\n",
    "from pytket.extensions.qiskit import qiskit_to_tk, tk_to_qiskit, IBMQBackend"
   ]
  },
  {
   "cell_type": "markdown",
   "metadata": {},
   "source": [
    "# Parameters"
   ]
  },
  {
   "cell_type": "code",
   "execution_count": 2,
   "metadata": {},
   "outputs": [],
   "source": [
    "def pytket(qc: QuantumCircuit, backend):\n",
    "    tk_backend = IBMQBackend(backend.name, group='uw-madison')\n",
    "    tk_qc = qiskit_to_tk(qc)\n",
    "    tk_backend.default_compilation_pass(2).apply(tk_qc)\n",
    "    tqc = tk_to_qiskit(tk_qc)\n",
    "    return tqc\n",
    "\n",
    "def qiskit_opt_0(qc: QuantumCircuit, backend):\n",
    "    return transpile(qc, backend, optimization_level=0)\n",
    "\n",
    "def qiskit_opt_3(qc: QuantumCircuit, backend):\n",
    "    return transpile(qc, backend, optimization_level=3)\n",
    "\n",
    "def qiskit_opt_3_sabre(qc: QuantumCircuit, backend):\n",
    "    return transpile(qc, backend, optimization_level=3, layout_method='sabre', routing_method='sabre')"
   ]
  },
  {
   "cell_type": "code",
   "execution_count": 3,
   "metadata": {},
   "outputs": [],
   "source": [
    "min_qubits, max_qubits = 4, 14\n",
    "algorithms = { 'Bernstein Vazirani': bv, 'QFT': qft }\n",
    "techniques = { \n",
    "    'PyTket': pytket,\n",
    "    'Qiskit Opt 0': qiskit_opt_0, \n",
    "    'Qiskit Opt 3': qiskit_opt_3, \n",
    "    'Qiskit Opt 3 Sabre': qiskit_opt_3_sabre \n",
    "}"
   ]
  },
  {
   "cell_type": "code",
   "execution_count": 4,
   "metadata": {},
   "outputs": [],
   "source": [
    "provider = IBMProvider()\n",
    "backend = provider.get_backend(\"ibm_oslo\")"
   ]
  },
  {
   "cell_type": "code",
   "execution_count": 5,
   "metadata": {},
   "outputs": [],
   "source": [
    "# from qiskit.providers.fake_provider import FakeOslo\n",
    "# fake_backend = FakeOslo()\n",
    "# fake_backend.name = \"ibm_oslo\""
   ]
  },
  {
   "attachments": {},
   "cell_type": "markdown",
   "metadata": {},
   "source": [
    "# Create Transpiled Circuits"
   ]
  },
  {
   "cell_type": "code",
   "execution_count": 6,
   "metadata": {},
   "outputs": [],
   "source": [
    "qcs = []\n",
    "tqcs = []\n",
    "cx_counts = []\n",
    "\n",
    "for al_name, al in algorithms.items():\n",
    "    for n in range(min_qubits, max_qubits+1):\n",
    "        qc = al.test(n)\n",
    "        qcs.append(qc)\n",
    "        for t_name, t in techniques.items():\n",
    "            tqc = t(qc, backend)\n",
    "            tqcs.append(tqc)\n",
    "            cx_counts.append(tqc.count_ops()['cx'])"
   ]
  },
  {
   "attachments": {},
   "cell_type": "markdown",
   "metadata": {},
   "source": [
    "# Simulate QCs"
   ]
  },
  {
   "cell_type": "code",
   "execution_count": 7,
   "metadata": {},
   "outputs": [],
   "source": [
    "def simulate_classically(qc_list):\n",
    "    aer_sim = Aer.get_backend('aer_simulator')\n",
    "    tqc_list = transpile(qc_list, aer_sim)\n",
    "    job_sim = aer_sim.run(tqc_list, shots=1000)\n",
    "    results = job_sim.result()\n",
    "    return results"
   ]
  },
  {
   "cell_type": "code",
   "execution_count": 8,
   "metadata": {},
   "outputs": [
    {
     "data": {
      "text/plain": [
       "[{'111': 1000},\n",
       " {'1111': 1000},\n",
       " {'11111': 1000},\n",
       " {'111111': 1000},\n",
       " {'0000': 1000},\n",
       " {'00000': 1000},\n",
       " {'000000': 1000},\n",
       " {'0000000': 1000}]"
      ]
     },
     "metadata": {},
     "output_type": "display_data"
    }
   ],
   "source": [
    "sim_res_counts = simulate_classically(qcs).get_counts()\n",
    "display(sim_res_counts)"
   ]
  },
  {
   "attachments": {},
   "cell_type": "markdown",
   "metadata": {},
   "source": [
    "# Run on IBM QC"
   ]
  },
  {
   "cell_type": "code",
   "execution_count": 9,
   "metadata": {},
   "outputs": [],
   "source": [
    "job = backend.run(tqcs, shots=1000)\n",
    "# job = fake_backend.run(tqcs, shots=1000)"
   ]
  },
  {
   "cell_type": "code",
   "execution_count": 11,
   "metadata": {},
   "outputs": [
    {
     "data": {
      "text/plain": [
       "'cfl9g112k6plbnjg42rg'"
      ]
     },
     "metadata": {},
     "output_type": "display_data"
    }
   ],
   "source": [
    "job = provider.backend.jobs()[0]\n",
    "display(job.job_id())"
   ]
  },
  {
   "cell_type": "code",
   "execution_count": 12,
   "metadata": {},
   "outputs": [],
   "source": [
    "def calculate_avg_cx_errors(backend):\n",
    "    cx_gates = [g for g in backend.properties().gates if g.gate == 'cx']\n",
    "    cx_error_rate = 0\n",
    "    for g in cx_gates:    \n",
    "        cx_error_rate += g.parameters[0].value\n",
    "\n",
    "    avg_cx_error_rate = cx_error_rate /len(cx_gates)\n",
    "    return avg_cx_error_rate"
   ]
  },
  {
   "cell_type": "code",
   "execution_count": 13,
   "metadata": {},
   "outputs": [
    {
     "name": "stdout",
     "output_type": "stream",
     "text": [
      "avg_cx_error_rate:  0.009243825744917814\n"
     ]
    }
   ],
   "source": [
    "avg_cx_error_rate = calculate_avg_cx_errors(backend)\n",
    "print('avg_cx_error_rate: ', avg_cx_error_rate)"
   ]
  },
  {
   "cell_type": "code",
   "execution_count": 14,
   "metadata": {},
   "outputs": [],
   "source": [
    "qc_res_counts = job.result().get_counts()"
   ]
  },
  {
   "attachments": {},
   "cell_type": "markdown",
   "metadata": {},
   "source": [
    "# Check Fidelities"
   ]
  },
  {
   "cell_type": "code",
   "execution_count": 34,
   "metadata": {},
   "outputs": [
    {
     "data": {
      "image/png": "[encoded data removed]",
      "text/plain": [
       "<Figure size 1177.29x451.5 with 1 Axes>"
      ]
     },
     "execution_count": 34,
     "metadata": {},
     "output_type": "execute_result"
    }
   ],
   "source": [
    "job.circuits()[0].draw('mpl')"
   ]
  },
  {
   "cell_type": "code",
   "execution_count": 58,
   "metadata": {},
   "outputs": [
    {
     "data": {
      "text/plain": [
       "{'created': datetime.datetime(2023, 2, 13, 14, 5, 24, 662795, tzinfo=tzlocal()),\n",
       " 'finished': datetime.datetime(2023, 2, 13, 14, 45, 32, 4488, tzinfo=tzlocal()),\n",
       " 'running': datetime.datetime(2023, 2, 13, 14, 44, 1, 883633, tzinfo=tzlocal())}"
      ]
     },
     "execution_count": 58,
     "metadata": {},
     "output_type": "execute_result"
    }
   ],
   "source": [
    "job.time_per_step()"
   ]
  },
  {
   "cell_type": "code",
   "execution_count": 15,
   "metadata": {},
   "outputs": [
    {
     "name": "stdout",
     "output_type": "stream",
     "text": [
      "Bernstein Vazirani: n=4\n",
      "PyTket: # cx gates: 3, fidelity=0.789\n",
      "Qiskit Opt 0: # cx gates: 6, fidelity=0.3200000000000001\n",
      "Qiskit Opt 3: # cx gates: 3, fidelity=0.789\n",
      "Qiskit Opt 3 Sabre: # cx gates: 3, fidelity=0.7719999999999999\n",
      "---\n",
      "Bernstein Vazirani: n=5\n",
      "PyTket: # cx gates: 7, fidelity=0.621\n",
      "Qiskit Opt 0: # cx gates: 16, fidelity=0.10000000000000003\n",
      "Qiskit Opt 3: # cx gates: 5, fidelity=0.36900000000000005\n",
      "Qiskit Opt 3 Sabre: # cx gates: 7, fidelity=0.5479999999999999\n",
      "---\n",
      "Bernstein Vazirani: n=6\n",
      "PyTket: # cx gates: 12, fidelity=0.18000000000000005\n",
      "Qiskit Opt 0: # cx gates: 17, fidelity=0.09099999999999991\n",
      "Qiskit Opt 3: # cx gates: 9, fidelity=0.08699999999999983\n",
      "Qiskit Opt 3 Sabre: # cx gates: 9, fidelity=0.16700000000000007\n",
      "---\n",
      "Bernstein Vazirani: n=7\n",
      "PyTket: # cx gates: 19, fidelity=0.017999999999999936\n",
      "Qiskit Opt 0: # cx gates: 18, fidelity=0.031999999999999994\n",
      "Qiskit Opt 3: # cx gates: 10, fidelity=0.139\n",
      "Qiskit Opt 3 Sabre: # cx gates: 8, fidelity=0.06799999999999999\n",
      "---\n",
      "------\n",
      "QFT: n=4\n",
      "PyTket: # cx gates: 14, fidelity=0.4120000000000001\n",
      "Qiskit Opt 0: # cx gates: 42, fidelity=0.3410000000000001\n",
      "Qiskit Opt 3: # cx gates: 25, fidelity=0.269\n",
      "Qiskit Opt 3 Sabre: # cx gates: 25, fidelity=0.188\n",
      "---\n",
      "QFT: n=5\n",
      "PyTket: # cx gates: 35, fidelity=0.04900000000000005\n",
      "Qiskit Opt 0: # cx gates: 68, fidelity=0.031999999999999994\n",
      "Qiskit Opt 3: # cx gates: 41, fidelity=0.05999999999999997\n",
      "Qiskit Opt 3 Sabre: # cx gates: 33, fidelity=0.09300000000000001\n",
      "---\n",
      "QFT: n=6\n",
      "PyTket: # cx gates: 54, fidelity=0.009999999999999974\n",
      "Qiskit Opt 0: # cx gates: 96, fidelity=0.011999999999999964\n",
      "Qiskit Opt 3: # cx gates: 68, fidelity=0.049999999999999885\n",
      "Qiskit Opt 3 Sabre: # cx gates: 64, fidelity=0.03499999999999989\n",
      "---\n",
      "QFT: n=7\n",
      "PyTket: # cx gates: 91, fidelity=0.0029999999999999727\n",
      "Qiskit Opt 0: # cx gates: 165, fidelity=0.011999999999999867\n",
      "Qiskit Opt 3: # cx gates: 90, fidelity=0.015999999999999872\n",
      "Qiskit Opt 3 Sabre: # cx gates: 96, fidelity=0.00899999999999997\n",
      "---\n",
      "------\n"
     ]
    }
   ],
   "source": [
    "n_s = max_qubits-min_qubits+1\n",
    "\n",
    "for al_index, al_name in enumerate(algorithms.keys()):\n",
    "    for n_index in range(n_s):\n",
    "        n = n_index + min_qubits\n",
    "        print('{}: n={}'.format(al_name, n))\n",
    "        sim_res_counts_n = sim_res_counts[al_index*(n_s) + n_index]\n",
    "        for t_index, t_name in enumerate(techniques.keys()):\n",
    "            counts_index = al_index*(n_s)*len(techniques) + n_index*len(techniques) + t_index\n",
    "            qc_counts = qc_res_counts[counts_index]\n",
    "            cx_count = cx_counts[counts_index]\n",
    "            hf = hellinger_fidelity(sim_res_counts_n, qc_counts)\n",
    "            print('{}: # cx gates: {}, fidelity={}'.format(t_name, cx_count, hf))\n",
    "        print('---')\n",
    "    print('------')\n",
    "            "
   ]
  },
  {
   "cell_type": "code",
   "execution_count": null,
   "metadata": {},
   "outputs": [],
   "source": []
  }
 ],
 "metadata": {
  "kernelspec": {
   "display_name": "qc",
   "language": "python",
   "name": "python3"
  },
  "language_info": {
   "codemirror_mode": {
    "name": "ipython",
    "version": 3
   },
   "file_extension": ".py",
   "mimetype": "text/x-python",
   "name": "python",
   "nbconvert_exporter": "python",
   "pygments_lexer": "ipython3",
   "version": "3.9.16"
  },
  "orig_nbformat": 4,
  "vscode": {
   "interpreter": {
    "hash": "2e585d592721c79519103c01e91debe96e55c40356773c3184851197f7a17905"
   }
  }
 },
 "nbformat": 4,
 "nbformat_minor": 2
}
