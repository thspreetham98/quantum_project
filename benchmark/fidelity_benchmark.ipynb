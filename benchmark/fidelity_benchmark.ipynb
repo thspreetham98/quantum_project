{
 "cells": [
  {
   "cell_type": "markdown",
   "metadata": {},
   "source": [
    "# Import"
   ]
  },
  {
   "cell_type": "code",
   "execution_count": 1,
   "metadata": {},
   "outputs": [],
   "source": [
    "import matplotlib.pyplot as plt\n",
    "import numpy as np\n",
    "\n",
    "import algorithms.bernstein_vazirani as bv\n",
    "import algorithms.qft as qft\n",
    "\n",
    "from qiskit import QuantumCircuit, transpile, Aer\n",
    "from qiskit_ibm_provider import IBMProvider\n",
    "from qiskit.tools.monitor import job_monitor\n",
    "from qiskit.quantum_info.analysis import hellinger_fidelity\n",
    "\n",
    "from pytket.extensions.qiskit import qiskit_to_tk, tk_to_qiskit, IBMQBackend"
   ]
  },
  {
   "cell_type": "markdown",
   "metadata": {},
   "source": [
    "# Parameters"
   ]
  },
  {
   "cell_type": "code",
   "execution_count": 2,
   "metadata": {},
   "outputs": [],
   "source": [
    "def pytket(qc: QuantumCircuit, backend):\n",
    "    tk_backend = IBMQBackend(backend.name, group='uw-madison')\n",
    "    tk_qc = qiskit_to_tk(qc)\n",
    "    tk_backend.default_compilation_pass(2).apply(tk_qc)\n",
    "    tqc = tk_to_qiskit(tk_qc)\n",
    "    return tqc\n",
    "\n",
    "def qiskit_opt_0(qc: QuantumCircuit, backend):\n",
    "    return transpile(qc, backend, optimization_level=0)\n",
    "\n",
    "def qiskit_opt_3(qc: QuantumCircuit, backend):\n",
    "    return transpile(qc, backend, optimization_level=3)\n",
    "\n",
    "def qiskit_opt_3_sabre(qc: QuantumCircuit, backend):\n",
    "    return transpile(qc, backend, optimization_level=3, layout_method='sabre', routing_method='sabre')"
   ]
  },
  {
   "cell_type": "code",
   "execution_count": 3,
   "metadata": {},
   "outputs": [],
   "source": [
    "min_qubits, max_qubits = 4, 14\n",
    "algorithms = { 'Bernstein Vazirani': bv, 'QFT': qft }\n",
    "techniques = { \n",
    "    'PyTket': pytket,\n",
    "    'Qiskit Opt 0': qiskit_opt_0, \n",
    "    'Qiskit Opt 3': qiskit_opt_3, \n",
    "    'Qiskit Opt 3 Sabre': qiskit_opt_3_sabre \n",
    "}"
   ]
  },
  {
   "cell_type": "code",
   "execution_count": 4,
   "metadata": {},
   "outputs": [],
   "source": [
    "provider = IBMProvider()\n",
    "backend = provider.get_backend(\"ibmq_guadalupe\")"
   ]
  },
  {
   "cell_type": "code",
   "execution_count": 5,
   "metadata": {},
   "outputs": [],
   "source": [
    "# from qiskit.providers.fake_provider import FakeOslo\n",
    "# fake_backend = FakeOslo()\n",
    "# fake_backend.name = \"ibm_oslo\""
   ]
  },
  {
   "cell_type": "code",
   "execution_count": 7,
   "metadata": {},
   "outputs": [],
   "source": [
    "qcs = []\n",
    "for al_name, al in algorithms.items():\n",
    "    for n in range(min_qubits, max_qubits+1):\n",
    "        qc = al.test(n)\n",
    "        qcs.append(qc)"
   ]
  },
  {
   "attachments": {},
   "cell_type": "markdown",
   "metadata": {},
   "source": [
    "# Create Transpiled Circuits"
   ]
  },
  {
   "cell_type": "code",
   "execution_count": null,
   "metadata": {},
   "outputs": [],
   "source": [
    "tqcs = []\n",
    "\n",
    "for qc in qcs:\n",
    "    for t_name, t in techniques.items():\n",
    "        tqc = t(qc, backend)\n",
    "        tqcs.append(tqc)"
   ]
  },
  {
   "cell_type": "code",
   "execution_count": 6,
   "metadata": {},
   "outputs": [],
   "source": [
    "# qcs = []\n",
    "# tqcs = []\n",
    "\n",
    "# for al_name, al in algorithms.items():\n",
    "#     for n in range(min_qubits, max_qubits+1):\n",
    "#         qc = al.test(n)\n",
    "#         qcs.append(qc)\n",
    "#         for t_name, t in techniques.items():\n",
    "#             tqc = t(qc, backend)\n",
    "#             tqcs.append(tqc)"
   ]
  },
  {
   "attachments": {},
   "cell_type": "markdown",
   "metadata": {},
   "source": [
    "# Simulate QCs"
   ]
  },
  {
   "cell_type": "code",
   "execution_count": 8,
   "metadata": {},
   "outputs": [],
   "source": [
    "def simulate_classically(qc_list):\n",
    "    aer_sim = Aer.get_backend('aer_simulator')\n",
    "    tqc_list = transpile(qc_list, aer_sim)\n",
    "    job_sim = aer_sim.run(tqc_list, shots=1000)\n",
    "    results = job_sim.result()\n",
    "    return results"
   ]
  },
  {
   "cell_type": "code",
   "execution_count": 9,
   "metadata": {},
   "outputs": [
    {
     "data": {
      "text/plain": [
       "[{'111': 1000},\n",
       " {'1111': 1000},\n",
       " {'11111': 1000},\n",
       " {'111111': 1000},\n",
       " {'1111111': 1000},\n",
       " {'11111111': 1000},\n",
       " {'111111111': 1000},\n",
       " {'1111111111': 1000},\n",
       " {'11111111111': 1000},\n",
       " {'111111111111': 1000},\n",
       " {'1111111111111': 1000},\n",
       " {'0000': 1000},\n",
       " {'00000': 1000},\n",
       " {'000000': 1000},\n",
       " {'0000000': 1000},\n",
       " {'00000000': 1000},\n",
       " {'000000000': 1000},\n",
       " {'0000000000': 1000},\n",
       " {'00000000000': 1000},\n",
       " {'000000000000': 1000},\n",
       " {'0000000000000': 1000},\n",
       " {'00000000000000': 1000}]"
      ]
     },
     "metadata": {},
     "output_type": "display_data"
    }
   ],
   "source": [
    "sim_res_counts = simulate_classically(qcs).get_counts()\n",
    "display(sim_res_counts)"
   ]
  },
  {
   "attachments": {},
   "cell_type": "markdown",
   "metadata": {},
   "source": [
    "# Run on IBM QC"
   ]
  },
  {
   "cell_type": "code",
   "execution_count": null,
   "metadata": {},
   "outputs": [],
   "source": [
    "# job = backend.run(tqcs, shots=1000)\n",
    "# job = fake_backend.run(tqcs, shots=1000)"
   ]
  },
  {
   "cell_type": "code",
   "execution_count": 10,
   "metadata": {},
   "outputs": [
    {
     "data": {
      "text/plain": [
       "'cfpd7gnlq5soddt32830'"
      ]
     },
     "metadata": {},
     "output_type": "display_data"
    }
   ],
   "source": [
    "job = provider.backend.jobs()[0]\n",
    "display(job.job_id())"
   ]
  },
  {
   "cell_type": "code",
   "execution_count": 11,
   "metadata": {},
   "outputs": [],
   "source": [
    "def calculate_avg_cx_errors(backend):\n",
    "    cx_gates = [g for g in backend.properties().gates if g.gate == 'cx']\n",
    "    cx_error_rate = 0\n",
    "    for g in cx_gates:    \n",
    "        cx_error_rate += g.parameters[0].value\n",
    "\n",
    "    avg_cx_error_rate = cx_error_rate /len(cx_gates)\n",
    "    return avg_cx_error_rate"
   ]
  },
  {
   "cell_type": "code",
   "execution_count": 12,
   "metadata": {},
   "outputs": [
    {
     "name": "stdout",
     "output_type": "stream",
     "text": [
      "avg_cx_error_rate:  0.014834060108850172\n"
     ]
    }
   ],
   "source": [
    "avg_cx_error_rate = calculate_avg_cx_errors(backend)\n",
    "print('avg_cx_error_rate: ', avg_cx_error_rate)"
   ]
  },
  {
   "cell_type": "code",
   "execution_count": 13,
   "metadata": {},
   "outputs": [],
   "source": [
    "qc_res_counts = job.result().get_counts()"
   ]
  },
  {
   "attachments": {},
   "cell_type": "markdown",
   "metadata": {},
   "source": [
    "# Check Fidelities"
   ]
  },
  {
   "cell_type": "code",
   "execution_count": 14,
   "metadata": {},
   "outputs": [],
   "source": [
    "cx_counts = []\n",
    "for tqc in job.circuits():\n",
    "    cx_counts.append(tqc.count_ops()['cx'])"
   ]
  },
  {
   "cell_type": "code",
   "execution_count": 15,
   "metadata": {},
   "outputs": [
    {
     "name": "stdout",
     "output_type": "stream",
     "text": [
      "Bernstein Vazirani: n=4\n",
      "PyTket: # cx gates: 3, fidelity=0.79475\n",
      "Qiskit Opt 0: # cx gates: 12, fidelity=0.5920000000000001\n",
      "Qiskit Opt 3: # cx gates: 3, fidelity=0.7960000000000002\n",
      "Qiskit Opt 3 Sabre: # cx gates: 3, fidelity=0.735\n",
      "---\n",
      "Bernstein Vazirani: n=5\n",
      "PyTket: # cx gates: 5, fidelity=0.41525\n",
      "Qiskit Opt 0: # cx gates: 13, fidelity=0.3410000000000001\n",
      "Qiskit Opt 3: # cx gates: 5, fidelity=0.18350000000000008\n",
      "Qiskit Opt 3 Sabre: # cx gates: 7, fidelity=0.40325000000000005\n",
      "---\n",
      "Bernstein Vazirani: n=6\n",
      "PyTket: # cx gates: 9, fidelity=0.06725\n",
      "Qiskit Opt 0: # cx gates: 26, fidelity=0.1540000000000002\n",
      "Qiskit Opt 3: # cx gates: 11, fidelity=0.022750000000000062\n",
      "Qiskit Opt 3 Sabre: # cx gates: 11, fidelity=0.4424999999999999\n",
      "---\n",
      "Bernstein Vazirani: n=7\n",
      "PyTket: # cx gates: 11, fidelity=0.034000000000000134\n",
      "Qiskit Opt 0: # cx gates: 39, fidelity=0.024749999999999998\n",
      "Qiskit Opt 3: # cx gates: 11, fidelity=0.012250000000000098\n",
      "Qiskit Opt 3 Sabre: # cx gates: 10, fidelity=0.11950000000000013\n",
      "---\n",
      "Bernstein Vazirani: n=8\n",
      "PyTket: # cx gates: 25, fidelity=0.010000000000000106\n",
      "Qiskit Opt 0: # cx gates: 43, fidelity=0.004750000000000035\n",
      "Qiskit Opt 3: # cx gates: 16, fidelity=0.008000000000000097\n",
      "Qiskit Opt 3 Sabre: # cx gates: 13, fidelity=0.0067500000000000485\n",
      "---\n",
      "Bernstein Vazirani: n=9\n",
      "PyTket: # cx gates: 16, fidelity=0.0025000000000001154\n",
      "Qiskit Opt 0: # cx gates: 77, fidelity=0.006250000000000178\n",
      "Qiskit Opt 3: # cx gates: 12, fidelity=0.011250000000000097\n",
      "Qiskit Opt 3 Sabre: # cx gates: 17, fidelity=0.010000000000000262\n",
      "---\n",
      "Bernstein Vazirani: n=10\n",
      "PyTket: # cx gates: 28, fidelity=0.004000000000000263\n",
      "Qiskit Opt 0: # cx gates: 105, fidelity=0.0022500000000002136\n",
      "Qiskit Opt 3: # cx gates: 20, fidelity=0.006500000000000468\n",
      "Qiskit Opt 3 Sabre: # cx gates: 18, fidelity=0.0035000000000002746\n",
      "---\n",
      "Bernstein Vazirani: n=11\n",
      "PyTket: # cx gates: 41, fidelity=0.0015000000000004456\n",
      "Qiskit Opt 0: # cx gates: 103, fidelity=0.0005000000000002232\n",
      "Qiskit Opt 3: # cx gates: 26, fidelity=0.0022500000000004665\n",
      "Qiskit Opt 3 Sabre: # cx gates: 22, fidelity=0.0017500000000004441\n",
      "---\n",
      "Bernstein Vazirani: n=12\n",
      "PyTket: # cx gates: 57, fidelity=0.0002500000000004474\n",
      "Qiskit Opt 0: # cx gates: 92, fidelity=0.0005000000000005659\n",
      "Qiskit Opt 3: # cx gates: 23, fidelity=0.0002500000000004123\n",
      "Qiskit Opt 3 Sabre: # cx gates: 26, fidelity=0.0012500000000004975\n",
      "---\n",
      "Bernstein Vazirani: n=13\n",
      "PyTket: # cx gates: 41, fidelity=0.000750000000001179\n",
      "Qiskit Opt 0: # cx gates: 114, fidelity=0.0002500000000007809\n",
      "Qiskit Opt 3: # cx gates: 21, fidelity=0.0017500000000009364\n",
      "Qiskit Opt 3 Sabre: # cx gates: 25, fidelity=3.9053545189097716e-28\n",
      "---\n",
      "Bernstein Vazirani: n=14\n",
      "PyTket: # cx gates: 81, fidelity=0.0007500000000018235\n",
      "Qiskit Opt 0: # cx gates: 124, fidelity=0.0005000000000015192\n",
      "Qiskit Opt 3: # cx gates: 27, fidelity=7.099748146989106e-28\n",
      "Qiskit Opt 3 Sabre: # cx gates: 27, fidelity=0.0002500000000010337\n",
      "---\n",
      "------\n",
      "QFT: n=4\n",
      "PyTket: # cx gates: 14, fidelity=0.7000000000000001\n",
      "Qiskit Opt 0: # cx gates: 42, fidelity=0.46874999999999983\n",
      "Qiskit Opt 3: # cx gates: 25, fidelity=0.5445\n",
      "Qiskit Opt 3 Sabre: # cx gates: 25, fidelity=0.4025000000000001\n",
      "---\n",
      "QFT: n=5\n",
      "PyTket: # cx gates: 35, fidelity=0.2735\n",
      "Qiskit Opt 0: # cx gates: 56, fidelity=0.15800000000000014\n",
      "Qiskit Opt 3: # cx gates: 37, fidelity=0.02675000000000004\n",
      "Qiskit Opt 3 Sabre: # cx gates: 41, fidelity=0.3205\n",
      "---\n",
      "QFT: n=6\n",
      "PyTket: # cx gates: 65, fidelity=0.06850000000000005\n",
      "Qiskit Opt 0: # cx gates: 111, fidelity=0.015500000000000059\n",
      "Qiskit Opt 3: # cx gates: 60, fidelity=0.02624999999999995\n",
      "Qiskit Opt 3 Sabre: # cx gates: 60, fidelity=0.020500000000000112\n",
      "---\n",
      "QFT: n=7\n",
      "PyTket: # cx gates: 88, fidelity=0.014000000000000125\n",
      "Qiskit Opt 0: # cx gates: 141, fidelity=0.01075000000000017\n",
      "Qiskit Opt 3: # cx gates: 95, fidelity=0.014250000000000112\n",
      "Qiskit Opt 3 Sabre: # cx gates: 93, fidelity=0.02675000000000022\n",
      "---\n",
      "QFT: n=8\n",
      "PyTket: # cx gates: 142, fidelity=0.00950000000000017\n",
      "Qiskit Opt 0: # cx gates: 203, fidelity=0.006000000000000183\n",
      "Qiskit Opt 3: # cx gates: 136, fidelity=0.013750000000000262\n",
      "Qiskit Opt 3 Sabre: # cx gates: 157, fidelity=0.006750000000000194\n",
      "---\n",
      "QFT: n=9\n",
      "PyTket: # cx gates: 188, fidelity=0.006750000000000431\n",
      "Qiskit Opt 0: # cx gates: 303, fidelity=0.003000000000000301\n",
      "Qiskit Opt 3: # cx gates: 214, fidelity=0.0030000000000002403\n",
      "Qiskit Opt 3 Sabre: # cx gates: 205, fidelity=0.005000000000000373\n",
      "---\n",
      "QFT: n=10\n",
      "PyTket: # cx gates: 263, fidelity=0.004250000000000698\n",
      "Qiskit Opt 0: # cx gates: 435, fidelity=0.0020000000000004762\n",
      "Qiskit Opt 3: # cx gates: 265, fidelity=0.001250000000000364\n",
      "Qiskit Opt 3 Sabre: # cx gates: 270, fidelity=0.003250000000000703\n",
      "---\n",
      "QFT: n=11\n",
      "PyTket: # cx gates: 293, fidelity=0.002750000000001079\n",
      "Qiskit Opt 0: # cx gates: 518, fidelity=0.0015000000000009014\n",
      "Qiskit Opt 3: # cx gates: 326, fidelity=0.0030000000000011766\n",
      "Qiskit Opt 3 Sabre: # cx gates: 336, fidelity=0.00025000000000032803\n",
      "---\n",
      "QFT: n=12\n",
      "PyTket: # cx gates: 407, fidelity=0.003750000000001378\n",
      "Qiskit Opt 0: # cx gates: 687, fidelity=0.001000000000001277\n",
      "Qiskit Opt 3: # cx gates: 418, fidelity=0.000500000000000824\n",
      "Qiskit Opt 3 Sabre: # cx gates: 403, fidelity=0.0010000000000011785\n",
      "---\n",
      "QFT: n=13\n",
      "PyTket: # cx gates: 518, fidelity=0.0035000000000021134\n",
      "Qiskit Opt 0: # cx gates: 804, fidelity=0.0007500000000014892\n",
      "Qiskit Opt 3: # cx gates: 455, fidelity=0.00025000000000092835\n",
      "Qiskit Opt 3 Sabre: # cx gates: 454, fidelity=0.001000000000001291\n",
      "---\n",
      "QFT: n=14\n",
      "PyTket: # cx gates: 535, fidelity=0.0020000000000025314\n",
      "Qiskit Opt 0: # cx gates: 938, fidelity=0.0015000000000024666\n",
      "Qiskit Opt 3: # cx gates: 543, fidelity=0.0007500000000015377\n",
      "Qiskit Opt 3 Sabre: # cx gates: 612, fidelity=0.0017500000000024597\n",
      "---\n",
      "------\n"
     ]
    }
   ],
   "source": [
    "n_s = max_qubits-min_qubits+1\n",
    "\n",
    "for al_index, al_name in enumerate(algorithms.keys()):\n",
    "    for n_index in range(n_s):\n",
    "        n = n_index + min_qubits\n",
    "        print('{}: n={}'.format(al_name, n))\n",
    "        sim_res_counts_n = sim_res_counts[al_index*(n_s) + n_index]\n",
    "        for t_index, t_name in enumerate(techniques.keys()):\n",
    "            counts_index = al_index*(n_s)*len(techniques) + n_index*len(techniques) + t_index\n",
    "            qc_counts = qc_res_counts[counts_index]\n",
    "            cx_count = cx_counts[counts_index]\n",
    "            hf = hellinger_fidelity(sim_res_counts_n, qc_counts)\n",
    "            print('{}: # cx gates: {}, fidelity={}'.format(t_name, cx_count, hf))\n",
    "        print('---')\n",
    "    print('------')\n",
    "            "
   ]
  },
  {
   "cell_type": "code",
   "execution_count": null,
   "metadata": {},
   "outputs": [],
   "source": []
  }
 ],
 "metadata": {
  "kernelspec": {
   "display_name": "qc",
   "language": "python",
   "name": "python3"
  },
  "language_info": {
   "codemirror_mode": {
    "name": "ipython",
    "version": 3
   },
   "file_extension": ".py",
   "mimetype": "text/x-python",
   "name": "python",
   "nbconvert_exporter": "python",
   "pygments_lexer": "ipython3",
   "version": "3.9.16"
  },
  "orig_nbformat": 4,
  "vscode": {
   "interpreter": {
    "hash": "2e585d592721c79519103c01e91debe96e55c40356773c3184851197f7a17905"
   }
  }
 },
 "nbformat": 4,
 "nbformat_minor": 2
}
