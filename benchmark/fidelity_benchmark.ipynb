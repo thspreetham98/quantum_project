{
 "cells": [
  {
   "cell_type": "markdown",
   "metadata": {},
   "source": [
    "# Import"
   ]
  },
  {
   "cell_type": "code",
   "execution_count": 13,
   "metadata": {},
   "outputs": [],
   "source": [
    "import matplotlib.pyplot as plt\n",
    "import numpy as np\n",
    "\n",
    "import algorithms.bernstein_vazirani as bv\n",
    "import algorithms.qft as qft\n",
    "\n",
    "from qiskit import QuantumCircuit, transpile, Aer\n",
    "from qiskit_ibm_provider import IBMProvider\n",
    "from qiskit.tools.monitor import job_monitor\n",
    "from qiskit.quantum_info.analysis import hellinger_fidelity\n",
    "from qiskit.dagcircuit.dagcircuit import DAGCircuit, DAGOpNode\n",
    "from qiskit.converters import circuit_to_dag\n",
    "\n",
    "\n",
    "from pytket.extensions.qiskit import qiskit_to_tk, tk_to_qiskit, IBMQBackend"
   ]
  },
  {
   "cell_type": "markdown",
   "metadata": {},
   "source": [
    "# Parameters"
   ]
  },
  {
   "cell_type": "code",
   "execution_count": 2,
   "metadata": {},
   "outputs": [],
   "source": [
    "def pytket(qc: QuantumCircuit, backend):\n",
    "    tk_backend = IBMQBackend(backend.name, group='uw-madison')\n",
    "    tk_qc = qiskit_to_tk(qc)\n",
    "    tk_backend.default_compilation_pass(2).apply(tk_qc)\n",
    "    tqc = tk_to_qiskit(tk_qc)\n",
    "    return tqc\n",
    "\n",
    "def qiskit_opt_0(qc: QuantumCircuit, backend):\n",
    "    return transpile(qc, backend, optimization_level=0)\n",
    "\n",
    "def qiskit_opt_3(qc: QuantumCircuit, backend):\n",
    "    return transpile(qc, backend, optimization_level=3)\n",
    "\n",
    "def qiskit_opt_3_sabre(qc: QuantumCircuit, backend):\n",
    "    return transpile(qc, backend, optimization_level=3, layout_method='sabre', routing_method='sabre')"
   ]
  },
  {
   "cell_type": "code",
   "execution_count": 3,
   "metadata": {},
   "outputs": [],
   "source": [
    "min_qubits, max_qubits = 4, 14\n",
    "algorithms = { 'Bernstein Vazirani': bv, 'QFT': qft }\n",
    "techniques = { \n",
    "    'PyTket': pytket,\n",
    "    'Qiskit Opt 0': qiskit_opt_0, \n",
    "    'Qiskit Opt 3': qiskit_opt_3, \n",
    "    'Qiskit Opt 3 Sabre': qiskit_opt_3_sabre \n",
    "}"
   ]
  },
  {
   "cell_type": "code",
   "execution_count": 4,
   "metadata": {},
   "outputs": [],
   "source": [
    "provider = IBMProvider()\n",
    "backend = provider.get_backend(\"ibmq_guadalupe\")"
   ]
  },
  {
   "cell_type": "code",
   "execution_count": 5,
   "metadata": {},
   "outputs": [],
   "source": [
    "# from qiskit.providers.fake_provider import FakeOslo\n",
    "# fake_backend = FakeOslo()\n",
    "# fake_backend.name = \"ibm_oslo\""
   ]
  },
  {
   "cell_type": "code",
   "execution_count": 6,
   "metadata": {},
   "outputs": [],
   "source": [
    "qcs = []\n",
    "for al_name, al in algorithms.items():\n",
    "    for n in range(min_qubits, max_qubits+1):\n",
    "        qc = al.test(n)\n",
    "        qcs.append(qc)"
   ]
  },
  {
   "attachments": {},
   "cell_type": "markdown",
   "metadata": {},
   "source": [
    "# Create Transpiled Circuits"
   ]
  },
  {
   "cell_type": "code",
   "execution_count": null,
   "metadata": {},
   "outputs": [],
   "source": [
    "tqcs = []\n",
    "\n",
    "for qc in qcs:\n",
    "    for t_name, t in techniques.items():\n",
    "        tqc = t(qc, backend)\n",
    "        tqcs.append(tqc)"
   ]
  },
  {
   "cell_type": "code",
   "execution_count": null,
   "metadata": {},
   "outputs": [],
   "source": [
    "# qcs = []\n",
    "# tqcs = []\n",
    "\n",
    "# for al_name, al in algorithms.items():\n",
    "#     for n in range(min_qubits, max_qubits+1):\n",
    "#         qc = al.test(n)\n",
    "#         qcs.append(qc)\n",
    "#         for t_name, t in techniques.items():\n",
    "#             tqc = t(qc, backend)\n",
    "#             tqcs.append(tqc)"
   ]
  },
  {
   "cell_type": "code",
   "execution_count": null,
   "metadata": {},
   "outputs": [],
   "source": [
    "len(tqcs)"
   ]
  },
  {
   "cell_type": "code",
   "execution_count": null,
   "metadata": {},
   "outputs": [],
   "source": [
    "tqc = tqcs[20]"
   ]
  },
  {
   "cell_type": "code",
   "execution_count": null,
   "metadata": {},
   "outputs": [],
   "source": [
    "# tqc.draw('mpl')"
   ]
  },
  {
   "cell_type": "code",
   "execution_count": null,
   "metadata": {},
   "outputs": [],
   "source": [
    "from qiskit.converters import circuit_to_dag\n",
    "\n",
    "dag = circuit_to_dag(tqc)"
   ]
  },
  {
   "cell_type": "code",
   "execution_count": null,
   "metadata": {},
   "outputs": [],
   "source": [
    "props = backend.properties()"
   ]
  },
  {
   "cell_type": "code",
   "execution_count": null,
   "metadata": {},
   "outputs": [],
   "source": [
    "tqc.draw('mpl')"
   ]
  },
  {
   "cell_type": "code",
   "execution_count": null,
   "metadata": {},
   "outputs": [],
   "source": []
  },
  {
   "cell_type": "code",
   "execution_count": null,
   "metadata": {},
   "outputs": [],
   "source": [
    "backend.properties().gate_error('sx', 0)"
   ]
  },
  {
   "cell_type": "code",
   "execution_count": null,
   "metadata": {},
   "outputs": [],
   "source": [
    "backend.properties().gate_error('cx', (0, 1))"
   ]
  },
  {
   "cell_type": "code",
   "execution_count": null,
   "metadata": {},
   "outputs": [],
   "source": [
    "props.gates[0]"
   ]
  },
  {
   "cell_type": "code",
   "execution_count": null,
   "metadata": {},
   "outputs": [],
   "source": [
    "props.gate_length"
   ]
  },
  {
   "cell_type": "code",
   "execution_count": null,
   "metadata": {},
   "outputs": [],
   "source": [
    "props.gate_error('sx', 0)"
   ]
  },
  {
   "attachments": {},
   "cell_type": "markdown",
   "metadata": {},
   "source": [
    "# Run on IBM QC"
   ]
  },
  {
   "cell_type": "code",
   "execution_count": null,
   "metadata": {},
   "outputs": [],
   "source": [
    "# job = backend.run(tqcs, shots=1000)\n",
    "# job = fake_backend.run(tqcs, shots=1000)"
   ]
  },
  {
   "attachments": {},
   "cell_type": "markdown",
   "metadata": {},
   "source": [
    "# Checkpoint"
   ]
  },
  {
   "cell_type": "code",
   "execution_count": 7,
   "metadata": {},
   "outputs": [
    {
     "data": {
      "text/plain": [
       "'cfpd7gnlq5soddt32830'"
      ]
     },
     "metadata": {},
     "output_type": "display_data"
    }
   ],
   "source": [
    "job = provider.backend.jobs()[0]\n",
    "display(job.job_id())"
   ]
  },
  {
   "attachments": {},
   "cell_type": "markdown",
   "metadata": {},
   "source": [
    "## Simulate QCs"
   ]
  },
  {
   "cell_type": "code",
   "execution_count": 8,
   "metadata": {},
   "outputs": [],
   "source": [
    "def simulate_classically(qc_list):\n",
    "    aer_sim = Aer.get_backend('aer_simulator')\n",
    "    tqc_list = transpile(qc_list, aer_sim)\n",
    "    job_sim = aer_sim.run(tqc_list, shots=1000)\n",
    "    results = job_sim.result()\n",
    "    return results"
   ]
  },
  {
   "cell_type": "code",
   "execution_count": 9,
   "metadata": {},
   "outputs": [
    {
     "data": {
      "text/plain": [
       "[{'111': 1000},\n",
       " {'1111': 1000},\n",
       " {'11111': 1000},\n",
       " {'111111': 1000},\n",
       " {'1111111': 1000},\n",
       " {'11111111': 1000},\n",
       " {'111111111': 1000},\n",
       " {'1111111111': 1000},\n",
       " {'11111111111': 1000},\n",
       " {'111111111111': 1000},\n",
       " {'1111111111111': 1000},\n",
       " {'0000': 1000},\n",
       " {'00000': 1000},\n",
       " {'000000': 1000},\n",
       " {'0000000': 1000},\n",
       " {'00000000': 1000},\n",
       " {'000000000': 1000},\n",
       " {'0000000000': 1000},\n",
       " {'00000000000': 1000},\n",
       " {'000000000000': 1000},\n",
       " {'0000000000000': 1000},\n",
       " {'00000000000000': 1000}]"
      ]
     },
     "metadata": {},
     "output_type": "display_data"
    }
   ],
   "source": [
    "sim_res_counts = simulate_classically(qcs).get_counts()\n",
    "display(sim_res_counts)"
   ]
  },
  {
   "attachments": {},
   "cell_type": "markdown",
   "metadata": {},
   "source": [
    "## Calculate Runtimes"
   ]
  },
  {
   "cell_type": "code",
   "execution_count": 15,
   "metadata": {},
   "outputs": [],
   "source": [
    "props = backend.properties()"
   ]
  },
  {
   "cell_type": "code",
   "execution_count": 10,
   "metadata": {},
   "outputs": [],
   "source": [
    "def circuit_runtime(tqc, backend):\n",
    "    dag = circuit_to_dag(tqc)\n",
    "    circuit_execution_time = 0\n",
    "    for s in dag.layers():\n",
    "        graph: DAGCircuit = s['graph']\n",
    "        gate: DAGOpNode\n",
    "        max_gate_time_in_layer = 0\n",
    "        for gate in graph.gate_nodes():\n",
    "            q_index = [qarg.index for qarg in gate.qargs]\n",
    "            g_time = props.gate_length(gate.name, q_index)\n",
    "            if g_time > max_gate_time_in_layer:\n",
    "                max_gate_time_in_layer = g_time\n",
    "        circuit_execution_time += max_gate_time_in_layer\n",
    "    return circuit_execution_time"
   ]
  },
  {
   "cell_type": "code",
   "execution_count": 16,
   "metadata": {},
   "outputs": [
    {
     "name": "stderr",
     "output_type": "stream",
     "text": [
      "C:\\Users\\thspr\\AppData\\Local\\Temp\\ipykernel_16208\\522823932.py:9: DeprecationWarning: Back-references to from Bit instances to their containing Registers have been deprecated. Instead, inspect Registers to find their contained Bits.\n",
      "  q_index = [qarg.index for qarg in gate.qargs]\n"
     ]
    }
   ],
   "source": [
    "circuit_run_times = []\n",
    "\n",
    "for tqc in job.circuits():\n",
    "    circuit_run_times.append(circuit_runtime(tqc, backend))"
   ]
  },
  {
   "cell_type": "code",
   "execution_count": 18,
   "metadata": {},
   "outputs": [],
   "source": [
    "def calculate_avg_cx_errors(backend):\n",
    "    cx_gates = [g for g in backend.properties().gates if g.gate == 'cx']\n",
    "    cx_error_rate = 0\n",
    "    for g in cx_gates:    \n",
    "        cx_error_rate += g.parameters[0].value\n",
    "\n",
    "    avg_cx_error_rate = cx_error_rate /len(cx_gates)\n",
    "    return avg_cx_error_rate"
   ]
  },
  {
   "cell_type": "code",
   "execution_count": 19,
   "metadata": {},
   "outputs": [
    {
     "name": "stdout",
     "output_type": "stream",
     "text": [
      "avg_cx_error_rate:  0.014834060108850172\n"
     ]
    }
   ],
   "source": [
    "avg_cx_error_rate = calculate_avg_cx_errors(backend)\n",
    "print('avg_cx_error_rate: ', avg_cx_error_rate)"
   ]
  },
  {
   "cell_type": "code",
   "execution_count": 20,
   "metadata": {},
   "outputs": [],
   "source": [
    "qc_res_counts = job.result().get_counts()"
   ]
  },
  {
   "cell_type": "code",
   "execution_count": null,
   "metadata": {},
   "outputs": [],
   "source": [
    "cx_counts = []\n",
    "for tqc in job.circuits():\n",
    "    cx_counts.append(tqc.count_ops()['cx'])"
   ]
  },
  {
   "attachments": {},
   "cell_type": "markdown",
   "metadata": {},
   "source": [
    "# Check Fidelities"
   ]
  },
  {
   "cell_type": "code",
   "execution_count": 25,
   "metadata": {},
   "outputs": [
    {
     "name": "stdout",
     "output_type": "stream",
     "text": [
      "Bernstein Vazirani: n=4\n",
      "PyTket: # cx gates=3, run_time=1.1377777777777777e-06, fidelity=0.79475\n",
      "Qiskit Opt 0: # cx gates=12, run_time=5.041777777777776e-06, fidelity=0.5920000000000001\n",
      "Qiskit Opt 3: # cx gates=3, run_time=1.1377777777777777e-06, fidelity=0.7960000000000002\n",
      "Qiskit Opt 3 Sabre: # cx gates=3, run_time=1.1022222222222222e-06, fidelity=0.735\n",
      "---\n",
      "Bernstein Vazirani: n=5\n",
      "PyTket: # cx gates=5, run_time=2.858666666666667e-06, fidelity=0.41525\n",
      "Qiskit Opt 0: # cx gates=13, run_time=5.247999999999999e-06, fidelity=0.3410000000000001\n",
      "Qiskit Opt 3: # cx gates=5, run_time=2.1333333333333334e-06, fidelity=0.18350000000000008\n",
      "Qiskit Opt 3 Sabre: # cx gates=7, run_time=3.1857777777777776e-06, fidelity=0.40325000000000005\n",
      "---\n",
      "Bernstein Vazirani: n=6\n",
      "PyTket: # cx gates=9, run_time=5.1484444444444445e-06, fidelity=0.06725\n",
      "Qiskit Opt 0: # cx gates=26, run_time=9.784888888888888e-06, fidelity=0.1540000000000002\n",
      "Qiskit Opt 3: # cx gates=11, run_time=4.48e-06, fidelity=0.022750000000000062\n",
      "Qiskit Opt 3 Sabre: # cx gates=11, run_time=3.1644444444444445e-06, fidelity=0.4424999999999999\n",
      "---\n",
      "Bernstein Vazirani: n=7\n",
      "PyTket: # cx gates=11, run_time=4.93511111111111e-06, fidelity=0.034000000000000134\n",
      "Qiskit Opt 0: # cx gates=39, run_time=1.4279111111111112e-05, fidelity=0.024749999999999998\n",
      "Qiskit Opt 3: # cx gates=11, run_time=4.408888888888888e-06, fidelity=0.012250000000000098\n",
      "Qiskit Opt 3 Sabre: # cx gates=10, run_time=3.6551111111111114e-06, fidelity=0.11950000000000013\n",
      "---\n",
      "Bernstein Vazirani: n=8\n",
      "PyTket: # cx gates=25, run_time=8.405333333333334e-06, fidelity=0.010000000000000106\n",
      "Qiskit Opt 0: # cx gates=43, run_time=1.4272000000000002e-05, fidelity=0.004750000000000035\n",
      "Qiskit Opt 3: # cx gates=16, run_time=7.31022222222222e-06, fidelity=0.008000000000000097\n",
      "Qiskit Opt 3 Sabre: # cx gates=13, run_time=5.134222222222222e-06, fidelity=0.0067500000000000485\n",
      "---\n",
      "Bernstein Vazirani: n=9\n",
      "PyTket: # cx gates=16, run_time=8.021333333333332e-06, fidelity=0.0025000000000001154\n",
      "Qiskit Opt 0: # cx gates=77, run_time=2.304711111111111e-05, fidelity=0.006250000000000178\n",
      "Qiskit Opt 3: # cx gates=12, run_time=5.077333333333334e-06, fidelity=0.011250000000000097\n",
      "Qiskit Opt 3 Sabre: # cx gates=17, run_time=7.615999999999999e-06, fidelity=0.010000000000000262\n",
      "---\n",
      "Bernstein Vazirani: n=10\n",
      "PyTket: # cx gates=28, run_time=1.2984888888888891e-05, fidelity=0.004000000000000263\n",
      "Qiskit Opt 0: # cx gates=105, run_time=2.6744888888888876e-05, fidelity=0.0022500000000002136\n",
      "Qiskit Opt 3: # cx gates=20, run_time=8.50488888888889e-06, fidelity=0.006500000000000468\n",
      "Qiskit Opt 3 Sabre: # cx gates=18, run_time=7.580444444444444e-06, fidelity=0.0035000000000002746\n",
      "---\n",
      "Bernstein Vazirani: n=11\n",
      "PyTket: # cx gates=41, run_time=1.6576e-05, fidelity=0.0015000000000004456\n",
      "Qiskit Opt 0: # cx gates=103, run_time=2.6588444444444437e-05, fidelity=0.0005000000000002232\n",
      "Qiskit Opt 3: # cx gates=26, run_time=1.0588444444444446e-05, fidelity=0.0022500000000004665\n",
      "Qiskit Opt 3 Sabre: # cx gates=22, run_time=9.322666666666668e-06, fidelity=0.0017500000000004441\n",
      "---\n",
      "Bernstein Vazirani: n=12\n",
      "PyTket: # cx gates=57, run_time=1.9953777777777777e-05, fidelity=0.0002500000000004474\n",
      "Qiskit Opt 0: # cx gates=92, run_time=2.5272888888888884e-05, fidelity=0.0005000000000005659\n",
      "Qiskit Opt 3: # cx gates=23, run_time=1.0432e-05, fidelity=0.0002500000000004123\n",
      "Qiskit Opt 3 Sabre: # cx gates=26, run_time=1.2103111111111113e-05, fidelity=0.0012500000000004975\n",
      "---\n",
      "Bernstein Vazirani: n=13\n",
      "PyTket: # cx gates=41, run_time=1.6682666666666662e-05, fidelity=0.000750000000001179\n",
      "Qiskit Opt 0: # cx gates=114, run_time=3.3457777777777765e-05, fidelity=0.0002500000000007809\n",
      "Qiskit Opt 3: # cx gates=21, run_time=9.016888888888888e-06, fidelity=0.0017500000000009364\n",
      "Qiskit Opt 3 Sabre: # cx gates=25, run_time=1.1079111111111114e-05, fidelity=3.9053545189097716e-28\n",
      "---\n",
      "Bernstein Vazirani: n=14\n",
      "PyTket: # cx gates=81, run_time=2.680888888888889e-05, fidelity=0.0007500000000018235\n",
      "Qiskit Opt 0: # cx gates=124, run_time=3.104711111111109e-05, fidelity=0.0005000000000015192\n",
      "Qiskit Opt 3: # cx gates=27, run_time=1.0702222222222222e-05, fidelity=7.099748146989106e-28\n",
      "Qiskit Opt 3 Sabre: # cx gates=27, run_time=1.2295111111111118e-05, fidelity=0.0002500000000010337\n",
      "---\n",
      "------\n",
      "QFT: n=4\n",
      "PyTket: # cx gates=14, run_time=5.631999999999999e-06, fidelity=0.7000000000000001\n",
      "Qiskit Opt 0: # cx gates=42, run_time=1.8147555555555557e-05, fidelity=0.46874999999999983\n",
      "Qiskit Opt 3: # cx gates=25, run_time=8.959999999999997e-06, fidelity=0.5445\n",
      "Qiskit Opt 3 Sabre: # cx gates=25, run_time=9.536000000000002e-06, fidelity=0.4025000000000001\n",
      "---\n",
      "QFT: n=5\n",
      "PyTket: # cx gates=35, run_time=1.5487999999999998e-05, fidelity=0.2735\n",
      "Qiskit Opt 0: # cx gates=56, run_time=2.240711111111111e-05, fidelity=0.15800000000000014\n",
      "Qiskit Opt 3: # cx gates=37, run_time=1.4008888888888892e-05, fidelity=0.02675000000000004\n",
      "Qiskit Opt 3 Sabre: # cx gates=41, run_time=1.4364444444444441e-05, fidelity=0.3205\n",
      "---\n",
      "QFT: n=6\n",
      "PyTket: # cx gates=65, run_time=2.6119111111111087e-05, fidelity=0.06850000000000005\n",
      "Qiskit Opt 0: # cx gates=111, run_time=4.532622222222221e-05, fidelity=0.015500000000000059\n",
      "Qiskit Opt 3: # cx gates=60, run_time=2.229333333333334e-05, fidelity=0.02624999999999995\n",
      "Qiskit Opt 3 Sabre: # cx gates=60, run_time=2.3537777777777765e-05, fidelity=0.020500000000000112\n",
      "---\n",
      "QFT: n=7\n",
      "PyTket: # cx gates=88, run_time=4.031288888888889e-05, fidelity=0.014000000000000125\n",
      "Qiskit Opt 0: # cx gates=141, run_time=5.3589333333333325e-05, fidelity=0.01075000000000017\n",
      "Qiskit Opt 3: # cx gates=95, run_time=3.722666666666663e-05, fidelity=0.014250000000000112\n",
      "Qiskit Opt 3 Sabre: # cx gates=93, run_time=3.2092444444444427e-05, fidelity=0.02675000000000022\n",
      "---\n",
      "QFT: n=8\n",
      "PyTket: # cx gates=142, run_time=6.065777777777773e-05, fidelity=0.00950000000000017\n",
      "Qiskit Opt 0: # cx gates=203, run_time=7.379199999999995e-05, fidelity=0.006000000000000183\n",
      "Qiskit Opt 3: # cx gates=136, run_time=5.255822222222221e-05, fidelity=0.013750000000000262\n",
      "Qiskit Opt 3 Sabre: # cx gates=157, run_time=6.268444444444438e-05, fidelity=0.006750000000000194\n",
      "---\n",
      "QFT: n=9\n",
      "PyTket: # cx gates=188, run_time=7.173688888888893e-05, fidelity=0.006750000000000431\n",
      "Qiskit Opt 0: # cx gates=303, run_time=0.0001138986666666667, fidelity=0.003000000000000301\n",
      "Qiskit Opt 3: # cx gates=214, run_time=8.2432e-05, fidelity=0.0030000000000002403\n",
      "Qiskit Opt 3 Sabre: # cx gates=205, run_time=8.389688888888894e-05, fidelity=0.005000000000000373\n",
      "---\n",
      "QFT: n=10\n",
      "PyTket: # cx gates=263, run_time=0.00011195733333333348, fidelity=0.004250000000000698\n",
      "Qiskit Opt 0: # cx gates=435, run_time=0.0001594453333333333, fidelity=0.0020000000000004762\n",
      "Qiskit Opt 3: # cx gates=265, run_time=0.0001030542222222223, fidelity=0.001250000000000364\n",
      "Qiskit Opt 3 Sabre: # cx gates=270, run_time=0.00010260622222222234, fidelity=0.003250000000000703\n",
      "---\n",
      "QFT: n=11\n",
      "PyTket: # cx gates=293, run_time=0.00011909688888888932, fidelity=0.002750000000001079\n",
      "Qiskit Opt 0: # cx gates=518, run_time=0.00017100088888888918, fidelity=0.0015000000000009014\n",
      "Qiskit Opt 3: # cx gates=326, run_time=0.00012679111111111143, fidelity=0.0030000000000011766\n",
      "Qiskit Opt 3 Sabre: # cx gates=336, run_time=0.00013141333333333339, fidelity=0.00025000000000032803\n",
      "---\n",
      "QFT: n=12\n",
      "PyTket: # cx gates=407, run_time=0.00017172622222222278, fidelity=0.003750000000001378\n",
      "Qiskit Opt 0: # cx gates=687, run_time=0.00022760533333333367, fidelity=0.001000000000001277\n",
      "Qiskit Opt 3: # cx gates=418, run_time=0.00016544711111111146, fidelity=0.000500000000000824\n",
      "Qiskit Opt 3 Sabre: # cx gates=403, run_time=0.00015681422222222255, fidelity=0.0010000000000011785\n",
      "---\n",
      "QFT: n=13\n",
      "PyTket: # cx gates=518, run_time=0.00020688355555555633, fidelity=0.0035000000000021134\n",
      "Qiskit Opt 0: # cx gates=804, run_time=0.0002573866666666668, fidelity=0.0007500000000014892\n",
      "Qiskit Opt 3: # cx gates=455, run_time=0.0001780266666666668, fidelity=0.00025000000000092835\n",
      "Qiskit Opt 3 Sabre: # cx gates=454, run_time=0.00018536533333333416, fidelity=0.001000000000001291\n",
      "---\n",
      "QFT: n=14\n",
      "PyTket: # cx gates=535, run_time=0.00022109866666666797, fidelity=0.0020000000000025314\n",
      "Qiskit Opt 0: # cx gates=938, run_time=0.00029357511111111073, fidelity=0.0015000000000024666\n",
      "Qiskit Opt 3: # cx gates=543, run_time=0.00020446577777777792, fidelity=0.0007500000000015377\n",
      "Qiskit Opt 3 Sabre: # cx gates=612, run_time=0.0002420622222222234, fidelity=0.0017500000000024597\n",
      "---\n",
      "------\n"
     ]
    }
   ],
   "source": [
    "n_s = max_qubits-min_qubits+1\n",
    "\n",
    "for al_index, al_name in enumerate(algorithms.keys()):\n",
    "    for n_index in range(n_s):\n",
    "        n = n_index + min_qubits\n",
    "        print('{}: n={}'.format(al_name, n))\n",
    "        sim_res_counts_n = sim_res_counts[al_index*(n_s) + n_index]\n",
    "        for t_index, t_name in enumerate(techniques.keys()):\n",
    "            tqc_index = al_index*(n_s)*len(techniques) + n_index*len(techniques) + t_index\n",
    "            qc_counts = qc_res_counts[tqc_index]\n",
    "            cx_count = cx_counts[tqc_index]\n",
    "            run_time = circuit_run_times[tqc_index]\n",
    "            hf = hellinger_fidelity(sim_res_counts_n, qc_counts)\n",
    "            print('{}: # cx gates={}, run_time={}, fidelity={}'.format(t_name, cx_count, run_time, hf))\n",
    "        print('---')\n",
    "    print('------')\n",
    "            "
   ]
  },
  {
   "cell_type": "code",
   "execution_count": null,
   "metadata": {},
   "outputs": [],
   "source": []
  }
 ],
 "metadata": {
  "kernelspec": {
   "display_name": "qc",
   "language": "python",
   "name": "python3"
  },
  "language_info": {
   "codemirror_mode": {
    "name": "ipython",
    "version": 3
   },
   "file_extension": ".py",
   "mimetype": "text/x-python",
   "name": "python",
   "nbconvert_exporter": "python",
   "pygments_lexer": "ipython3",
   "version": "3.9.16"
  },
  "orig_nbformat": 4,
  "vscode": {
   "interpreter": {
    "hash": "2e585d592721c79519103c01e91debe96e55c40356773c3184851197f7a17905"
   }
  }
 },
 "nbformat": 4,
 "nbformat_minor": 2
}
