{
 "cells": [
  {
   "cell_type": "code",
   "execution_count": 78,
   "metadata": {},
   "outputs": [],
   "source": [
    "from qiskit import QuantumCircuit, Aer\n",
    "from qiskit.transpiler.preset_passmanagers import generate_preset_pass_manager\n",
    "from qiskit_ibm_provider import IBMProvider\n",
    "from qiskit.visualization import plot_histogram\n",
    "import numpy as np\n",
    "import pickle\n",
    "import matplotlib.pyplot as plt\n",
    "from scipy import stats\n",
    "from sklearn.linear_model import LinearRegression"
   ]
  },
  {
   "cell_type": "code",
   "execution_count": 79,
   "metadata": {},
   "outputs": [],
   "source": [
    "# provider = IBMProvider()"
   ]
  },
  {
   "attachments": {},
   "cell_type": "markdown",
   "metadata": {},
   "source": [
    "# Load Pickle"
   ]
  },
  {
   "cell_type": "code",
   "execution_count": 80,
   "metadata": {},
   "outputs": [],
   "source": [
    "# qcs: list[QuantumCircuit]\n",
    "# max_cnots, random_circs_per_cnot_value, q1, q2, snoopers, qcs = pickle.load(open( 'snooping_qcs_with_gap_7_qubits_IBMQ.pickle', \"rb\"))"
   ]
  },
  {
   "attachments": {},
   "cell_type": "markdown",
   "metadata": {},
   "source": [
    "# Run on IBMQ"
   ]
  },
  {
   "cell_type": "code",
   "execution_count": 81,
   "metadata": {},
   "outputs": [],
   "source": [
    "job_id: str = None\n",
    "backend_name: str = None"
   ]
  },
  {
   "cell_type": "code",
   "execution_count": 82,
   "metadata": {},
   "outputs": [],
   "source": [
    "job_id = 'cgb9ervs21rmqo8sbth0'\n",
    "# backend_name = 'ibm_nairobi'"
   ]
  },
  {
   "cell_type": "code",
   "execution_count": 83,
   "metadata": {},
   "outputs": [
    {
     "name": "stdout",
     "output_type": "stream",
     "text": [
      "Retrieved job: cgb9ervs21rmqo8sbth0\n"
     ]
    }
   ],
   "source": [
    "if job_id == None:\n",
    "    backend = provider.get_backend(backend_name)\n",
    "    pm = generate_preset_pass_manager(0, backend)\n",
    "    print('Transpiling circuits...')\n",
    "    tqcs = pm.run(qcs)\n",
    "    job = backend.run(tqcs, shots=8000)\n",
    "    # job.update_tags(['snooping', 'two_way_cnot', 'gap'])\n",
    "    print('New job: ', job.job_id())\n",
    "else:\n",
    "    job = provider.backend.retrieve_job(job_id)\n",
    "    print('Retrieved job:', job.job_id())"
   ]
  },
  {
   "attachments": {},
   "cell_type": "markdown",
   "metadata": {},
   "source": [
    "# Analyse Results"
   ]
  },
  {
   "cell_type": "code",
   "execution_count": 84,
   "metadata": {},
   "outputs": [],
   "source": [
    "tqcs = job.circuits()\n",
    "qc_res_counts = job.result().get_counts()"
   ]
  },
  {
   "cell_type": "code",
   "execution_count": 85,
   "metadata": {},
   "outputs": [],
   "source": [
    "import os\n",
    "path = 'snooping_results/{}/{}'.format(job.backend().name, job.job_id())\n",
    "if not os.path.exists(path):\n",
    "   os.makedirs(path)"
   ]
  },
  {
   "cell_type": "code",
   "execution_count": 86,
   "metadata": {},
   "outputs": [],
   "source": [
    "for cnot_count in range(max_cnots):\n",
    "    start_index = cnot_count*random_circs_per_cnot_value\n",
    "    data = qc_res_counts[start_index: start_index+random_circs_per_cnot_value]\n",
    "    title='CNOTs-{}'.format(cnot_count)\n",
    "    fig = plot_histogram(data, title=title)\n",
    "    fig.savefig('{}/{}.png'.format(path, title))\n"
   ]
  },
  {
   "cell_type": "code",
   "execution_count": 87,
   "metadata": {},
   "outputs": [
    {
     "name": "stdout",
     "output_type": "stream",
     "text": [
      "0 DescribeResult(nobs=60, minmax=(8, 10), mean=9.383333333333333, variance=0.3759887005649717, skewness=-0.4367085290018458, kurtosis=-0.6616571486954168)\n",
      "1 DescribeResult(nobs=60, minmax=(9, 30), mean=14.016666666666667, variance=14.898022598870055, skewness=1.6904088338533307, kurtosis=3.648700631015302)\n",
      "2 DescribeResult(nobs=60, minmax=(11, 35), mean=17.4, variance=29.498305084745766, skewness=1.592767965962449, kurtosis=2.9071171448657678)\n",
      "3 DescribeResult(nobs=60, minmax=(12, 42), mean=20.866666666666667, variance=34.69378531073446, skewness=1.2280961751306259, kurtosis=1.5872852140127458)\n",
      "4 DescribeResult(nobs=60, minmax=(14, 47), mean=25.033333333333335, variance=50.880225988700566, skewness=0.9828617635536363, kurtosis=0.7946764839772316)\n",
      "5 DescribeResult(nobs=60, minmax=(18, 56), mean=29.883333333333333, variance=73.02005649717515, skewness=1.0348117722165207, kurtosis=0.5968442035659502)\n",
      "6 DescribeResult(nobs=60, minmax=(19, 56), mean=33.4, variance=68.14237288135594, skewness=0.2820927281926766, kurtosis=-0.3340013092713785)\n",
      "7 DescribeResult(nobs=60, minmax=(24, 63), mean=37.9, variance=73.88813559322034, skewness=0.6403793449417851, kurtosis=0.13187609251329047)\n",
      "8 DescribeResult(nobs=60, minmax=(27, 60), mean=38.833333333333336, variance=65.090395480226, skewness=0.8232145675363185, kurtosis=0.2716468564994088)\n",
      "9 DescribeResult(nobs=60, minmax=(28, 85), mean=45.96666666666667, variance=120.03276836158192, skewness=1.2266468379214566, kurtosis=2.0195633131322834)\n",
      "10 DescribeResult(nobs=60, minmax=(30, 73), mean=47.833333333333336, variance=107.22598870056497, skewness=0.5116525500878298, kurtosis=-0.5368253403924053)\n",
      "11 DescribeResult(nobs=60, minmax=(29, 84), mean=50.63333333333333, variance=145.82937853107342, skewness=0.8863435353914183, kurtosis=0.5434947746310481)\n",
      "12 DescribeResult(nobs=60, minmax=(33, 83), mean=55.61666666666667, variance=106.95225988700562, skewness=0.5054225013101001, kurtosis=0.10102523994584178)\n",
      "13 DescribeResult(nobs=60, minmax=(32, 113), mean=61.416666666666664, variance=185.06073446327684, skewness=0.8720637328768249, kurtosis=2.244507771506571)\n",
      "14 DescribeResult(nobs=60, minmax=(39, 104), mean=67.21666666666667, variance=213.63022598870052, skewness=0.4253486828551902, kurtosis=-0.12775429521371606)\n",
      "15 DescribeResult(nobs=60, minmax=(41, 109), mean=69.83333333333333, variance=183.56497175141243, skewness=0.5093287223613736, kurtosis=0.14910392020440488)\n",
      "16 DescribeResult(nobs=60, minmax=(45, 102), mean=70.1, variance=163.2440677966102, skewness=0.4637349529762589, kurtosis=-0.35579280163066596)\n",
      "17 DescribeResult(nobs=60, minmax=(54, 106), mean=77.35, variance=155.99406779661015, skewness=0.1581427128625332, kurtosis=-0.7533594432674735)\n",
      "18 DescribeResult(nobs=60, minmax=(57, 118), mean=81.0, variance=164.33898305084745, skewness=0.46906686641270867, kurtosis=-0.17538415351436099)\n",
      "19 DescribeResult(nobs=60, minmax=(59, 130), mean=86.0, variance=226.84745762711864, skewness=0.45761884335101827, kurtosis=0.558801420114623)\n"
     ]
    }
   ],
   "source": [
    "for cnot_count in range(max_cnots):\n",
    "    start_index = cnot_count*random_circs_per_cnot_value\n",
    "    depths = []\n",
    "    for i in range(start_index, start_index+random_circs_per_cnot_value):\n",
    "        depths.append(tqcs[i].depth())\n",
    "    print(cnot_count, stats.describe(depths))"
   ]
  },
  {
   "cell_type": "code",
   "execution_count": 88,
   "metadata": {},
   "outputs": [
    {
     "name": "stdout",
     "output_type": "stream",
     "text": [
      "0 DescribeResult(nobs=60, minmax=(7715, 7801), mean=7753.833333333333, variance=259.1242937853107, skewness=0.31507872402744463, kurtosis=0.5398543203277577)\n",
      "1 DescribeResult(nobs=60, minmax=(6897, 7643), mean=7464.283333333334, variance=17385.935310734465, skewness=-1.806411029023263, kurtosis=4.473626413892927)\n",
      "2 DescribeResult(nobs=60, minmax=(6075, 7323), mean=6987.366666666667, variance=67603.38870056497, skewness=-1.7162302312679534, kurtosis=3.500204999220429)\n",
      "3 DescribeResult(nobs=60, minmax=(4741, 6855), mean=6334.466666666666, variance=148044.08361581917, skewness=-1.5852749057215172, kurtosis=3.4892445888782717)\n",
      "4 DescribeResult(nobs=60, minmax=(4306, 6375), mean=5571.766666666666, variance=212847.809039548, skewness=-0.9628886571589739, kurtosis=1.0189741223023514)\n",
      "5 DescribeResult(nobs=60, minmax=(3229, 5404), mean=4636.033333333334, variance=286323.7276836158, skewness=-0.7380348924592606, kurtosis=-0.11064159030310661)\n",
      "6 DescribeResult(nobs=60, minmax=(2643, 4821), mean=3887.2166666666667, variance=244806.37598870054, skewness=0.04162790481498289, kurtosis=-0.6056048933978473)\n",
      "7 DescribeResult(nobs=60, minmax=(1924, 3981), mean=3096.6, variance=212511.90508474575, skewness=-0.4373157571667167, kurtosis=-0.34577210018614135)\n",
      "8 DescribeResult(nobs=60, minmax=(1607, 3409), mean=2587.3333333333335, variance=161455.17514124297, skewness=-0.4340316848971807, kurtosis=-0.2869316476389243)\n",
      "9 DescribeResult(nobs=60, minmax=(957, 2618), mean=1902.5166666666667, variance=137755.84717514124, skewness=-0.3500487642837097, kurtosis=-0.12605762567225165)\n",
      "10 DescribeResult(nobs=60, minmax=(1097, 2278), mean=1696.5833333333333, variance=101250.31497175142, skewness=0.1129427942223006, kurtosis=-1.084207656508309)\n",
      "11 DescribeResult(nobs=60, minmax=(918, 1959), mean=1374.3, variance=57280.077966101686, skewness=0.12390249394026606, kurtosis=-0.15018626798976475)\n",
      "12 DescribeResult(nobs=60, minmax=(883, 1408), mean=1114.3166666666666, variance=19627.440395480226, skewness=0.3502297076349774, kurtosis=-0.6307526808519719)\n",
      "13 DescribeResult(nobs=60, minmax=(848, 1402), mean=990.45, variance=13778.556779661018, skewness=1.3617190792423193, kurtosis=2.0851572790494712)\n",
      "14 DescribeResult(nobs=60, minmax=(841, 1053), mean=914.5, variance=2904.28813559322, skewness=1.156924108774032, kurtosis=0.5569013164649745)\n",
      "15 DescribeResult(nobs=60, minmax=(1026, 1222), mean=1106.6, variance=2056.6508474576267, skewness=0.37537937092378426, kurtosis=-0.0949312930904509)\n",
      "16 DescribeResult(nobs=60, minmax=(1045, 1204), mean=1120.8, variance=1482.433898305085, skewness=0.16104282510266274, kurtosis=-0.7854704242475838)\n",
      "17 DescribeResult(nobs=60, minmax=(1075, 1255), mean=1157.0666666666666, variance=1562.0293785310737, skewness=0.06360081573200574, kurtosis=-0.31144444365817137)\n",
      "18 DescribeResult(nobs=60, minmax=(1110, 1253), mean=1175.5833333333333, variance=1107.433615819209, skewness=0.23434760969730012, kurtosis=-0.4671584253793246)\n"
     ]
    }
   ],
   "source": [
    "for cnot_count in range(cnot_count):\n",
    "    start_index = cnot_count*random_circs_per_cnot_value\n",
    "    data = []\n",
    "    for i in range(start_index, start_index+random_circs_per_cnot_value):\n",
    "        data.append(qc_res_counts[i]['000'])\n",
    "    print(cnot_count, stats.describe(data))\n"
   ]
  },
  {
   "cell_type": "code",
   "execution_count": 89,
   "metadata": {},
   "outputs": [],
   "source": [
    "dataa = []\n",
    "for cnot_count in range(max_cnots):\n",
    "    start_index = cnot_count*random_circs_per_cnot_value\n",
    "    data = []\n",
    "    for i in range(start_index, start_index+random_circs_per_cnot_value):\n",
    "        data.append(qc_res_counts[i]['000'])\n",
    "    dataa.append(data)"
   ]
  },
  {
   "cell_type": "code",
   "execution_count": 90,
   "metadata": {},
   "outputs": [
    {
     "data": {
      "image/png": "[encoded data removed]",
      "text/plain": [
       "<Figure size 600x600 with 1 Axes>"
      ]
     },
     "metadata": {},
     "output_type": "display_data"
    }
   ],
   "source": [
    "fig, axs = plt.subplots(figsize=(6, 6))\n",
    "axs.boxplot(dataa, labels=range(max_cnots))\n",
    "plt.show(fig)\n",
    "title = '000 distribution'\n",
    "fig.savefig('{}/{}.png'.format(path, title))\n"
   ]
  },
  {
   "attachments": {},
   "cell_type": "markdown",
   "metadata": {},
   "source": [
    "# Predicting CNOTs using regression"
   ]
  },
  {
   "attachments": {},
   "cell_type": "markdown",
   "metadata": {},
   "source": [
    "## Linear Regression"
   ]
  },
  {
   "cell_type": "code",
   "execution_count": 91,
   "metadata": {},
   "outputs": [],
   "source": [
    "# qc_shots = 8000"
   ]
  },
  {
   "cell_type": "code",
   "execution_count": 92,
   "metadata": {},
   "outputs": [],
   "source": [
    "# label = []\n",
    "# data = []\n",
    "# for cnot_count in range(max_cnots):\n",
    "#     start_index = cnot_count*random_circs_per_cnot_value\n",
    "#     for i in range(start_index, start_index+random_circs_per_cnot_value):\n",
    "#         d = []\n",
    "#         res = qc_res_counts[i]\n",
    "#         # for i in range(2**3):\n",
    "#         #     d.append(res.get('{0:03b}'.format(i), 0)/qc_shots)\n",
    "#         d.append(res.get('000', 0))\n",
    "#         label.append(cnot_count)\n",
    "#         data.append(d)"
   ]
  },
  {
   "cell_type": "code",
   "execution_count": 93,
   "metadata": {},
   "outputs": [],
   "source": [
    "# label = np.array(label) \n",
    "# data = np.array(data)"
   ]
  },
  {
   "cell_type": "code",
   "execution_count": 94,
   "metadata": {},
   "outputs": [],
   "source": [
    "# from sklearn.linear_model import LogisticRegression\n",
    "\n",
    "# reg = LogisticRegression(random_state=0)\n",
    "# reg.fit(data, label)\n",
    "# reg.score(data, label)"
   ]
  },
  {
   "cell_type": "code",
   "execution_count": 95,
   "metadata": {},
   "outputs": [],
   "source": [
    "# from sklearn.neural_network import MLPClassifier\n",
    "# from sklearn.model_selection import train_test_split\n",
    "\n",
    "# X_train, X_test, y_train, y_test = train_test_split(data, label, random_state=1)\n",
    "# clf = MLPClassifier(solver='lbfgs', alpha=1e-5, hidden_layer_sizes=(5, 2), random_state=1)\n",
    "# clf.fit(data, label)"
   ]
  },
  {
   "cell_type": "code",
   "execution_count": null,
   "metadata": {},
   "outputs": [],
   "source": []
  }
 ],
 "metadata": {
  "kernelspec": {
   "display_name": "bench",
   "language": "python",
   "name": "python3"
  },
  "language_info": {
   "codemirror_mode": {
    "name": "ipython",
    "version": 3
   },
   "file_extension": ".py",
   "mimetype": "text/x-python",
   "name": "python",
   "nbconvert_exporter": "python",
   "pygments_lexer": "ipython3",
   "version": "3.11.0"
  },
  "orig_nbformat": 4
 },
 "nbformat": 4,
 "nbformat_minor": 2
}
