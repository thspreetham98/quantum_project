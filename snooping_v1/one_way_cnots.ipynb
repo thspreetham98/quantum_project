{
 "cells": [
  {
   "cell_type": "code",
   "execution_count": 1,
   "metadata": {},
   "outputs": [],
   "source": [
    "from qiskit import QuantumCircuit\n",
    "from qiskit_ibm_provider import IBMProvider\n",
    "import numpy as np"
   ]
  },
  {
   "attachments": {},
   "cell_type": "markdown",
   "metadata": {},
   "source": [
    "# Analysing IBM's 7 qubit backend"
   ]
  },
  {
   "cell_type": "code",
   "execution_count": 2,
   "metadata": {},
   "outputs": [],
   "source": [
    "provider = IBMProvider()\n",
    "backend = provider.get_backend(\"ibmq_jakarta\")"
   ]
  },
  {
   "cell_type": "code",
   "execution_count": 3,
   "metadata": {},
   "outputs": [
    {
     "data": {
      "image/png": "[encoded data removed]",
      "text/plain": [
       "<PIL.PngImagePlugin.PngImageFile image mode=RGB size=445x403>"
      ]
     },
     "execution_count": 3,
     "metadata": {},
     "output_type": "execute_result"
    }
   ],
   "source": [
    "backend.coupling_map.draw()"
   ]
  },
  {
   "cell_type": "code",
   "execution_count": 4,
   "metadata": {},
   "outputs": [
    {
     "data": {
      "text/plain": [
       "[Instruction(name='id', num_qubits=1, num_clbits=0, params=[]),\n",
       " Instruction(name='rz', num_qubits=1, num_clbits=0, params=[Parameter(λ)]),\n",
       " Instruction(name='sx', num_qubits=1, num_clbits=0, params=[]),\n",
       " Instruction(name='x', num_qubits=1, num_clbits=0, params=[]),\n",
       " Instruction(name='cx', num_qubits=2, num_clbits=0, params=[]),\n",
       " Instruction(name='reset', num_qubits=1, num_clbits=0, params=[]),\n",
       " Instruction(name='measure', num_qubits=1, num_clbits=1, params=[]),\n",
       " Delay(duration=t[unit=dt]),\n",
       " qiskit.circuit.controlflow.if_else.IfElseOp]"
      ]
     },
     "execution_count": 4,
     "metadata": {},
     "output_type": "execute_result"
    }
   ],
   "source": [
    "backend.operations"
   ]
  },
  {
   "cell_type": "code",
   "execution_count": 5,
   "metadata": {},
   "outputs": [
    {
     "name": "stdout",
     "output_type": "stream",
     "text": [
      "3.5555555555555554e-08\n",
      "0.0\n",
      "3.5555555555555554e-08\n",
      "3.5555555555555554e-08\n"
     ]
    }
   ],
   "source": [
    "print(backend.properties().gate_length('id', 3))\n",
    "print(backend.properties().gate_length('rz', 3))\n",
    "print(backend.properties().gate_length('sx', 3))\n",
    "print(backend.properties().gate_length('x', 3))"
   ]
  },
  {
   "cell_type": "code",
   "execution_count": 6,
   "metadata": {},
   "outputs": [
    {
     "name": "stdout",
     "output_type": "stream",
     "text": [
      "281.25000000000006\n",
      "34.29878048780488\n"
     ]
    }
   ],
   "source": [
    "print(0.00001/(backend.properties().gate_length('id', 2)))\n",
    "print(0.00001/(backend.properties().gate_length('cx', (3,5))))"
   ]
  },
  {
   "cell_type": "code",
   "execution_count": 7,
   "metadata": {},
   "outputs": [],
   "source": [
    "del backend"
   ]
  },
  {
   "attachments": {},
   "cell_type": "markdown",
   "metadata": {},
   "source": [
    "# Generate random 2 qubits circuit with n single qubit operations and k CNOTs"
   ]
  },
  {
   "attachments": {},
   "cell_type": "markdown",
   "metadata": {},
   "source": [
    "We will use qubits 3, 5 for the circuit and try to detect the CNOT with 1, 4, 6.\n",
    "For now we only do CNOTs with 3 as the control."
   ]
  },
  {
   "attachments": {},
   "cell_type": "markdown",
   "metadata": {},
   "source": [
    "We can see from the fidelety usually plumets after 20 CNOTs."
   ]
  },
  {
   "cell_type": "code",
   "execution_count": 8,
   "metadata": {},
   "outputs": [],
   "source": [
    "max_cnots = 20\n",
    "random_circs_per_cnot_value = 60\n",
    "prob_of_cnot = 1/4\n",
    "\n",
    "num_of_qubits = 7\n",
    "q1 = 3\n",
    "q2 = 5\n",
    "snoopers = (1,4,6)"
   ]
  },
  {
   "cell_type": "code",
   "execution_count": 9,
   "metadata": {},
   "outputs": [],
   "source": [
    "def init_snoopers(num_of_qubits, snoopers):\n",
    "    qc = QuantumCircuit(num_of_qubits)\n",
    "    qc.h(snoopers)\n",
    "    qc.barrier()\n",
    "    return qc\n",
    "\n",
    "def readout_snoopers(num_of_qubits, snoopers):\n",
    "    qc = QuantumCircuit(num_of_qubits, len(snoopers))\n",
    "    qc.barrier()\n",
    "    qc.h(snoopers)\n",
    "    for s_i, s in enumerate(snoopers):\n",
    "        qc.measure(s, s_i)\n",
    "    return qc"
   ]
  },
  {
   "cell_type": "code",
   "execution_count": 10,
   "metadata": {},
   "outputs": [],
   "source": [
    "def random_2_qubit_init(num_of_qubits, q1, q2):\n",
    "    qc = QuantumCircuit(num_of_qubits)\n",
    "    for q in (q1, q2):\n",
    "        qc.rz(np.random.random()*(2*np.pi), q)\n",
    "        if np.random.randint(2) < 1:\n",
    "            qc.sx(q)\n",
    "        if np.random.randint(2) < 1:\n",
    "            qc.x(q)\n",
    "    qc.barrier()\n",
    "    return qc"
   ]
  },
  {
   "cell_type": "code",
   "execution_count": 11,
   "metadata": {},
   "outputs": [],
   "source": [
    "def random_2_qubit_circuit(num_of_qubits, q1, q2, no_of_cnots, prob_of_cnot) -> QuantumCircuit:\n",
    "    '''\n",
    "        num_of_qubits: number of qubits in the backend\n",
    "        q1: qubit 1,\n",
    "        q2: qubit 2\n",
    "        no_of_cnots: # of CNOTs\n",
    "        prob_of_cnot: probability of CNOT\n",
    "    '''\n",
    "    cnot_depth = 0\n",
    "    other_depth = 0\n",
    "    qc = random_2_qubit_init(num_of_qubits, q1, q2)\n",
    "    while cnot_depth < no_of_cnots:\n",
    "        p = np.random.random()\n",
    "        if p > prob_of_cnot:\n",
    "            for q in (q1, q2):\n",
    "                op_type = np.random.randint(0, 4)\n",
    "                match op_type:\n",
    "                    case 0:\n",
    "                        qc.rz(np.random.random()*(2*np.pi), q)\n",
    "                    case 1:\n",
    "                        qc.sx(q)\n",
    "                    case 2:\n",
    "                        qc.x(q)\n",
    "                    case 3:\n",
    "                        qc.id(q)\n",
    "            other_depth += 1\n",
    "        else:\n",
    "            qc.cx(q1, q2)\n",
    "            cnot_depth += 1\n",
    "    return qc\n"
   ]
  },
  {
   "cell_type": "code",
   "execution_count": 12,
   "metadata": {},
   "outputs": [],
   "source": [
    "qc1 = init_snoopers(num_of_qubits, snoopers)\n",
    "qc2 = readout_snoopers(num_of_qubits, snoopers)\n",
    "\n",
    "qcs: list[QuantumCircuit] = []\n",
    "for k in range(max_cnots):\n",
    "    for i in range(random_circs_per_cnot_value):\n",
    "        victim_qc = random_2_qubit_circuit(num_of_qubits, q1, q2, k, prob_of_cnot)\n",
    "        qc = qc1.compose(victim_qc).compose(qc2)\n",
    "        qcs.append(qc)"
   ]
  },
  {
   "attachments": {},
   "cell_type": "markdown",
   "metadata": {},
   "source": [
    "# Save qcs"
   ]
  },
  {
   "cell_type": "code",
   "execution_count": 13,
   "metadata": {},
   "outputs": [],
   "source": [
    "import pickle\n",
    "\n",
    "with open('snooping_qcs_{}_qubits_IBMQ.pickle'.format(num_of_qubits), 'wb') as file:\n",
    "    pickle.dump((max_cnots, random_circs_per_cnot_value, q1, q2, snoopers, qcs), file)"
   ]
  }
 ],
 "metadata": {
  "kernelspec": {
   "display_name": "bench",
   "language": "python",
   "name": "python3"
  },
  "language_info": {
   "codemirror_mode": {
    "name": "ipython",
    "version": 3
   },
   "file_extension": ".py",
   "mimetype": "text/x-python",
   "name": "python",
   "nbconvert_exporter": "python",
   "pygments_lexer": "ipython3",
   "version": "3.11.0"
  },
  "orig_nbformat": 4
 },
 "nbformat": 4,
 "nbformat_minor": 2
}
