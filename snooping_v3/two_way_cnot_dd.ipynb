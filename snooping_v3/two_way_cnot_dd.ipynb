{
 "cells": [
  {
   "cell_type": "code",
   "execution_count": null,
   "metadata": {},
   "outputs": [],
   "source": [
    "import pickle\n",
    "import victim_circuits.constants as v_const\n",
    "from helper import circuit_runtime_in_ms\n",
    "\n",
    "from qiskit import QuantumCircuit\n",
    "from qiskit_ibm_provider import IBMProvider\n",
    "from qiskit.transpiler.preset_passmanagers import generate_preset_pass_manager\n",
    "from qiskit.visualization import plot_histogram, timeline_drawer\n",
    "from qiskit.transpiler.passes import ALAPScheduleAnalysis, PadDynamicalDecoupling, AlignMeasures\n",
    "from qiskit.transpiler import InstructionDurations\n",
    "from qiskit.circuit.library import XGate\n",
    "\n",
    "import numpy as np\n",
    "import matplotlib.pyplot as plt\n",
    "from bisect import bisect\n"
   ]
  },
  {
   "attachments": {},
   "cell_type": "markdown",
   "metadata": {},
   "source": [
    "# Parameters"
   ]
  },
  {
   "cell_type": "code",
   "execution_count": null,
   "metadata": {},
   "outputs": [],
   "source": [
    "snooper_qubits = (1, 4, 6)\n",
    "victim_qubits = (3, 5)\n",
    "ibm_backend_name = 'ibm_nairobi'"
   ]
  },
  {
   "cell_type": "code",
   "execution_count": null,
   "metadata": {},
   "outputs": [],
   "source": [
    "provider = IBMProvider()\n",
    "backend = provider.get_backend(ibm_backend_name)"
   ]
  },
  {
   "attachments": {},
   "cell_type": "markdown",
   "metadata": {},
   "source": [
    "# Create Circuits"
   ]
  },
  {
   "cell_type": "code",
   "execution_count": null,
   "metadata": {},
   "outputs": [],
   "source": [
    "def init_snoopers(qc: QuantumCircuit, snooper_qubits):\n",
    "    '''\n",
    "        qc: QuantumCircuit to be modified\n",
    "        snooper_qubits: tuple of qubits which are the snoopers\n",
    "    '''\n",
    "    qc.h(snooper_qubits)\n",
    "    qc.barrier()\n",
    "\n",
    "def readout_snoopers(qc: QuantumCircuit, snooper_qubits):\n",
    "    '''\n",
    "        qc: QuantumCircuit to be modified\n",
    "        snooper_qubits: tuple of qubits which are the snoopers\n",
    "    '''\n",
    "    qc.barrier()\n",
    "    qc.h(snooper_qubits)\n",
    "    qc.measure(snooper_qubits, range(len(snooper_qubits)))"
   ]
  },
  {
   "cell_type": "code",
   "execution_count": null,
   "metadata": {},
   "outputs": [],
   "source": [
    "victim_qcs = pickle.load( open( \"victim_circuits/two_way_cnot_0-9.p\", \"rb\" ) )"
   ]
  },
  {
   "cell_type": "code",
   "execution_count": null,
   "metadata": {},
   "outputs": [],
   "source": [
    "qcs: list[QuantumCircuit] = []\n",
    "for victim_qc in victim_qcs:\n",
    "    qc = QuantumCircuit(backend.num_qubits, len(snooper_qubits))\n",
    "    init_snoopers(qc, snooper_qubits)\n",
    "    qc.append(victim_qc, victim_qubits)\n",
    "    readout_snoopers(qc, snooper_qubits)\n",
    "    qcs.append(qc)"
   ]
  },
  {
   "cell_type": "code",
   "execution_count": null,
   "metadata": {},
   "outputs": [],
   "source": [
    "n = 8\n",
    "dd_sequence = [XGate()] * n\n",
    "def uhrig_pulse_location(k):\n",
    "    return np.sin(np.pi * (k + 1) / (2 * n + 2)) ** 2\n",
    "spacing = []\n",
    "for k in range(n):\n",
    "    spacing.append(uhrig_pulse_location(k) - sum(spacing))\n",
    "spacing.append(1 - sum(spacing))"
   ]
  },
  {
   "cell_type": "code",
   "execution_count": null,
   "metadata": {},
   "outputs": [],
   "source": [
    "pm = generate_preset_pass_manager(0, backend)\n",
    "# durations = InstructionDurations.from_backend(backend)\n",
    "# pm.scheduling.append([\n",
    "#     # AlignMeasures(backend.configuration().timing_constraints['pulse_alignment']),\n",
    "#     ALAPScheduleAnalysis(durations),\n",
    "#     PadDynamicalDecoupling(durations=durations, dd_sequence=dd_sequence,\n",
    "#         qubits = snooper_qubits + victim_qubits,\n",
    "#         pulse_alignment=backend.configuration().timing_constraints['pulse_alignment'],\n",
    "#         spacing=spacing)\n",
    "#     ])"
   ]
  },
  {
   "cell_type": "code",
   "execution_count": null,
   "metadata": {},
   "outputs": [],
   "source": [
    "qcs[0].draw('mpl', idle_wires=False, wire_order=(0, 2) + victim_qubits + snooper_qubits + (7,8,9))"
   ]
  },
  {
   "cell_type": "code",
   "execution_count": null,
   "metadata": {},
   "outputs": [],
   "source": [
    "tqcs = pm.run(qcs)"
   ]
  },
  {
   "cell_type": "code",
   "execution_count": null,
   "metadata": {},
   "outputs": [],
   "source": [
    "job = backend.run(tqcs, shots=8000)\n",
    "job.update_tags(['snooping', 'two_way_cnot_with_dd'])\n",
    "print('New job: ', job.job_id())"
   ]
  },
  {
   "cell_type": "code",
   "execution_count": null,
   "metadata": {},
   "outputs": [],
   "source": [
    "# timeline_drawer(tqcs[500])\n",
    "timeline_drawer(tqcs[500], time_range=(1000, 10000), show_idle=False)"
   ]
  },
  {
   "attachments": {},
   "cell_type": "markdown",
   "metadata": {},
   "source": [
    "# Checkpoint"
   ]
  },
  {
   "cell_type": "code",
   "execution_count": null,
   "metadata": {},
   "outputs": [],
   "source": [
    "job_id = 'cgtm4ejagcl9lnhmokqg'\n",
    "job = provider.backend.retrieve_job(job_id)"
   ]
  },
  {
   "attachments": {},
   "cell_type": "markdown",
   "metadata": {},
   "source": [
    "## Analyse Results"
   ]
  },
  {
   "cell_type": "code",
   "execution_count": null,
   "metadata": {},
   "outputs": [],
   "source": [
    "tqcs = job.circuits()\n",
    "qc_res_counts = job.result().get_counts()"
   ]
  },
  {
   "cell_type": "code",
   "execution_count": null,
   "metadata": {},
   "outputs": [],
   "source": [
    "import os\n",
    "results_path = 'results/{}/{}'.format(job.backend().name, job.job_id())\n",
    "if not os.path.exists(results_path):\n",
    "   os.makedirs(results_path)"
   ]
  },
  {
   "cell_type": "code",
   "execution_count": null,
   "metadata": {},
   "outputs": [],
   "source": [
    "path = '{}/histograms'.format(results_path)\n",
    "if not os.path.exists(path):\n",
    "    os.makedirs(path)\n",
    "    for cnot_count in cnot_vals:\n",
    "        start_index = cnot_count*no_of_circuits_per_cnot_val\n",
    "        data = qc_res_counts[start_index: start_index+no_of_circuits_per_cnot_val]\n",
    "        title='CNOTs-{}'.format(cnot_count)\n",
    "        fig, axs = plt.subplots()\n",
    "        plot_histogram(data, ax=axs, title=title)\n",
    "        fig.savefig('{}/{}.png'.format(path, title))\n",
    "        plt.close(fig)"
   ]
  },
  {
   "cell_type": "code",
   "execution_count": null,
   "metadata": {},
   "outputs": [],
   "source": [
    "depths_per_cnots = []\n",
    "for cnot_count in cnot_vals:\n",
    "    start_index = cnot_count*no_of_circuits_per_cnot_val\n",
    "    depths = []\n",
    "    for i in range(start_index, start_index+no_of_circuits_per_cnot_val):\n",
    "        depths.append(tqcs[i].depth())\n",
    "    depths_per_cnots.append(depths)\n",
    "\n",
    "fig, axs = plt.subplots(figsize=(6, 6))\n",
    "title = 'Circuit depth vs CNOTs'\n",
    "axs.set_title(title)\n",
    "axs.set_ylabel('Circuit depth')\n",
    "axs.set_xlabel('# of CNOTs')\n",
    "axs.boxplot(depths_per_cnots, labels=cnot_vals)\n",
    "plt.show(fig)\n",
    "\n",
    "fname = '{}/{}.png'.format(results_path, title)\n",
    "\n",
    "if not os.path.isfile(fname):\n",
    "    fig.savefig(fname)"
   ]
  },
  {
   "cell_type": "code",
   "execution_count": null,
   "metadata": {},
   "outputs": [],
   "source": [
    "zero_counts_per_cnots = []\n",
    "for cnot_count in cnot_vals:\n",
    "    start_index = cnot_count*no_of_circuits_per_cnot_val\n",
    "    zero_counts = []\n",
    "    for i in range(start_index, start_index+no_of_circuits_per_cnot_val):\n",
    "        zero_counts.append(qc_res_counts[i]['000'])\n",
    "    zero_counts_per_cnots.append(zero_counts)\n",
    "\n",
    "fig, axs = plt.subplots(figsize=(6, 6))\n",
    "title = '000 count vs CNOTs'\n",
    "axs.set_title(title)\n",
    "axs.set_ylabel('# of 000')\n",
    "axs.set_xlabel('# of CNOTs')\n",
    "axs.boxplot(zero_counts_per_cnots, labels=cnot_vals)\n",
    "plt.show(fig)\n",
    "\n",
    "fname = '{}/{}.png'.format(results_path, title)\n",
    "\n",
    "if not os.path.isfile(fname):\n",
    "    fig.savefig(fname)"
   ]
  },
  {
   "attachments": {},
   "cell_type": "markdown",
   "metadata": {},
   "source": [
    "## Analyse Results with binning"
   ]
  },
  {
   "cell_type": "code",
   "execution_count": null,
   "metadata": {},
   "outputs": [],
   "source": [
    "circuit_run_times_in_ms = []\n",
    "for cnot_count in cnot_vals:\n",
    "    start_index = cnot_count*no_of_circuits_per_cnot_val\n",
    "    for i in range(start_index, start_index+no_of_circuits_per_cnot_val):\n",
    "        circuit_run_times_in_ms.append(circuit_runtime_in_ms(tqcs[i], backend))"
   ]
  },
  {
   "cell_type": "code",
   "execution_count": null,
   "metadata": {},
   "outputs": [],
   "source": [
    "runtimes_per_cnots = []\n",
    "for cnot_count in cnot_vals:\n",
    "    start_index = cnot_count*no_of_circuits_per_cnot_val\n",
    "    runtimes_per_cnots.append(circuit_run_times_in_ms[start_index: start_index+no_of_circuits_per_cnot_val])\n",
    "\n",
    "fig, axs = plt.subplots(figsize=(6, 6))\n",
    "title = 'Runtimes vs CNOTs'\n",
    "axs.set_title(title)\n",
    "axs.set_ylabel('Runtimes in ms')\n",
    "axs.set_xlabel('# of CNOTs')\n",
    "axs.boxplot(runtimes_per_cnots, labels=cnot_vals)\n",
    "plt.show(fig)\n",
    "\n",
    "fname = '{}/{}.png'.format(results_path, title)\n",
    "\n",
    "if not os.path.isfile(fname):\n",
    "    fig.savefig(fname)"
   ]
  },
  {
   "cell_type": "code",
   "execution_count": null,
   "metadata": {},
   "outputs": [],
   "source": [
    "thresholds = [0.002, 0.004, float('inf')]\n",
    "batches = []\n",
    "for t in thresholds:\n",
    "    batches.append(set())"
   ]
  },
  {
   "cell_type": "code",
   "execution_count": null,
   "metadata": {},
   "outputs": [],
   "source": [
    "for i, time in enumerate(circuit_run_times_in_ms):\n",
    "    x = bisect(thresholds, time)\n",
    "    batches[x].add(i)"
   ]
  },
  {
   "cell_type": "code",
   "execution_count": null,
   "metadata": {},
   "outputs": [],
   "source": [
    "for b in batches:\n",
    "    print(len(b))"
   ]
  },
  {
   "cell_type": "code",
   "execution_count": null,
   "metadata": {},
   "outputs": [],
   "source": [
    "for j, b in enumerate(batches):\n",
    "    dataa = []\n",
    "    for cnot_count in cnot_vals:\n",
    "        start_index = cnot_count*no_of_circuits_per_cnot_val\n",
    "        data = []\n",
    "        for i in range(start_index, start_index+no_of_circuits_per_cnot_val):\n",
    "            if i in batches[j]:\n",
    "                data.append(qc_res_counts[i]['000'])\n",
    "        dataa.append(data)\n",
    "\n",
    "    fig, axs = plt.subplots(figsize=(6, 6))\n",
    "    title = '000 distribution - {} ms to {} ms'.format(thresholds[j-1] if j!=0 else 0, thresholds[j])\n",
    "    axs.set_title(title)\n",
    "    axs.boxplot(dataa, labels=cnot_vals)\n",
    "\n",
    "    \n",
    "\n",
    "    plt.show(fig)\n",
    "    \n",
    "    fname = '{}/{}.png'.format(results_path, title)\n",
    "\n",
    "    if not os.path.isfile(fname):\n",
    "        fig.savefig(fname)\n",
    "    "
   ]
  },
  {
   "attachments": {},
   "cell_type": "markdown",
   "metadata": {},
   "source": [
    "# Splitting results"
   ]
  },
  {
   "cell_type": "code",
   "execution_count": null,
   "metadata": {},
   "outputs": [],
   "source": [
    "split_res_counts = [[] for _ in range(3)]\n",
    "\n",
    "for res_count in qc_res_counts:\n",
    "    counts = [{'0': 0, '1': 0} for _ in range(3)]\n",
    "    for key, count in res_count.items():\n",
    "        for i, b in enumerate(key):\n",
    "            counts[i][b] += count\n",
    "    for c in range(len(counts)):\n",
    "        split_res_counts[c].append(counts[c])"
   ]
  },
  {
   "cell_type": "code",
   "execution_count": null,
   "metadata": {},
   "outputs": [],
   "source": [
    "for qubit_index, res_counts in enumerate(split_res_counts):\n",
    "    zero_counts_per_cnots = []\n",
    "    for cnot_count in cnot_vals:\n",
    "        start_index = cnot_count*no_of_circuits_per_cnot_val\n",
    "        zero_counts = []\n",
    "        for i in range(start_index, start_index+no_of_circuits_per_cnot_val):\n",
    "            zero_counts.append(res_counts[i]['0'])\n",
    "        zero_counts_per_cnots.append(zero_counts)\n",
    "\n",
    "    fig, axs = plt.subplots(figsize=(6, 6))\n",
    "    title = '0 count on qubit {} vs CNOTs'.format(snooper_qubits[qubit_index])\n",
    "    axs.set_title(title)\n",
    "    axs.set_ylabel('# of 0')\n",
    "    axs.set_xlabel('# of CNOTs')\n",
    "    axs.boxplot(zero_counts_per_cnots, labels=cnot_vals)\n",
    "    plt.show(fig)\n",
    "\n",
    "    fname = '{}/{}.png'.format(results_path, title)\n",
    "\n",
    "    if not os.path.isfile(fname):\n",
    "        fig.savefig(fname)"
   ]
  },
  {
   "cell_type": "code",
   "execution_count": null,
   "metadata": {},
   "outputs": [],
   "source": [
    "for qubit_index, res_counts in enumerate(split_res_counts):\n",
    "    fig, axs = plt.subplots(len(batches), figsize=(6, 10))\n",
    "    title = '0 distribution on qubit {}'.format(snooper_qubits[qubit_index])\n",
    "    fig.suptitle(title)\n",
    "    for j, b in enumerate(batches):\n",
    "        dataa = []\n",
    "        for cnot_count in cnot_vals:\n",
    "            start_index = cnot_count*no_of_circuits_per_cnot_val\n",
    "            data = []\n",
    "            for i in range(start_index, start_index+no_of_circuits_per_cnot_val):\n",
    "                if i in batches[j]:\n",
    "                    data.append(split_res_counts[qubit_index][i]['0'])\n",
    "            dataa.append(data)\n",
    "        axs[j].boxplot(dataa, labels=cnot_vals)\n",
    "        axs[j].set_title('Batch {} ms to {} ms'.format(thresholds[j-1] if j!=0 else 0, thresholds[j]))\n",
    "    plt.show(fig)\n",
    "        \n",
    "    fname = '{}/{}.png'.format(results_path, title)\n",
    "\n",
    "    if not os.path.isfile(fname):\n",
    "        fig.savefig(fname)\n",
    "    "
   ]
  },
  {
   "cell_type": "code",
   "execution_count": null,
   "metadata": {},
   "outputs": [],
   "source": []
  }
 ],
 "metadata": {
  "kernelspec": {
   "display_name": "bench",
   "language": "python",
   "name": "python3"
  },
  "language_info": {
   "codemirror_mode": {
    "name": "ipython",
    "version": 3
   },
   "file_extension": ".py",
   "mimetype": "text/x-python",
   "name": "python",
   "nbconvert_exporter": "python",
   "pygments_lexer": "ipython3",
   "version": "3.11.0"
  },
  "orig_nbformat": 4
 },
 "nbformat": 4,
 "nbformat_minor": 2
}
