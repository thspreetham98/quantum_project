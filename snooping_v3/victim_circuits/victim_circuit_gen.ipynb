{
 "cells": [
  {
   "cell_type": "code",
   "execution_count": 1,
   "metadata": {},
   "outputs": [],
   "source": [
    "from qiskit import QuantumCircuit\n",
    "import numpy as np\n",
    "import pickle\n",
    "import constants"
   ]
  },
  {
   "cell_type": "code",
   "execution_count": 2,
   "metadata": {},
   "outputs": [],
   "source": [
    "def random_2_qubit_circuit_one_way_cnot(no_of_cnots, depth) -> QuantumCircuit:\n",
    "    if depth < no_of_cnots:\n",
    "        raise ValueError(\"depth should be greater than no_of_cnots\")\n",
    "    qc = QuantumCircuit(2)\n",
    "    cnot_count = 0\n",
    "    for i in range(depth, 0, -1):\n",
    "        prob_of_cnot = (no_of_cnots-cnot_count)/i\n",
    "        p = np.random.random()\n",
    "        if p > prob_of_cnot:\n",
    "            for q in range(2):\n",
    "                op_type = np.random.randint(0, 4)\n",
    "                match op_type:\n",
    "                    case 0:\n",
    "                        qc.rz(np.random.random()*(2*np.pi), q)\n",
    "                    case 1:\n",
    "                        qc.sx(q)\n",
    "                    case 2:\n",
    "                        qc.x(q)\n",
    "                    case 3:\n",
    "                        qc.id(q)\n",
    "        else:\n",
    "            qc.cx(0, 1)\n",
    "            cnot_count += 1\n",
    "    return qc"
   ]
  },
  {
   "cell_type": "code",
   "execution_count": 3,
   "metadata": {},
   "outputs": [],
   "source": [
    "def random_2_qubit_circuit_two_way_cnot(no_of_cnots, depth) -> QuantumCircuit:\n",
    "    if depth < no_of_cnots:\n",
    "        raise ValueError(\"depth should be greater than no_of_cnots\")\n",
    "    qc = QuantumCircuit(2)\n",
    "    cnot_count = 0\n",
    "    for i in range(depth, 0, -1):\n",
    "        prob_of_cnot = (no_of_cnots-cnot_count)/i\n",
    "        p = np.random.random()\n",
    "        if p > prob_of_cnot:\n",
    "            for q in range(2):\n",
    "                op_type = np.random.randint(0, 4)\n",
    "                match op_type:\n",
    "                    case 0:\n",
    "                        qc.rz(np.random.random()*(2*np.pi), q)\n",
    "                    case 1:\n",
    "                        qc.sx(q)\n",
    "                    case 2:\n",
    "                        qc.x(q)\n",
    "                    case 3:\n",
    "                        qc.id(q)\n",
    "        else:\n",
    "            if np.random.randint(2) == 0:\n",
    "                qc.cx(0, 1)\n",
    "            else:\n",
    "                qc.cx(1, 0)\n",
    "            cnot_count += 1\n",
    "    return qc"
   ]
  },
  {
   "attachments": {},
   "cell_type": "markdown",
   "metadata": {},
   "source": [
    "# Generate circuits"
   ]
  },
  {
   "attachments": {},
   "cell_type": "markdown",
   "metadata": {},
   "source": [
    "## One Way CNOT"
   ]
  },
  {
   "cell_type": "code",
   "execution_count": 4,
   "metadata": {},
   "outputs": [],
   "source": [
    "victim_qcs = []\n",
    "for no_of_cnots in constants.cnot_vals:\n",
    "    for _ in range(constants.no_of_circuits_per_cnot_val):\n",
    "        victim_qc = random_2_qubit_circuit_one_way_cnot(no_of_cnots, np.random.randint(no_of_cnots, constants.max_circuit_depth))\n",
    "        victim_qcs.append(victim_qc)"
   ]
  },
  {
   "cell_type": "code",
   "execution_count": 5,
   "metadata": {},
   "outputs": [],
   "source": [
    "pickle.dump(victim_qcs, open( \"one_way_cnot_0-9.p\", \"wb\" ) )"
   ]
  },
  {
   "attachments": {},
   "cell_type": "markdown",
   "metadata": {},
   "source": [
    "## Two Way CNOTs"
   ]
  },
  {
   "cell_type": "code",
   "execution_count": 6,
   "metadata": {},
   "outputs": [],
   "source": [
    "victim_qcs = []\n",
    "for no_of_cnots in constants.cnot_vals:\n",
    "    for _ in range(constants.no_of_circuits_per_cnot_val):\n",
    "        victim_qc = random_2_qubit_circuit_two_way_cnot(no_of_cnots, np.random.randint(no_of_cnots, constants.max_circuit_depth))\n",
    "        victim_qcs.append(victim_qc)"
   ]
  },
  {
   "cell_type": "code",
   "execution_count": 7,
   "metadata": {},
   "outputs": [],
   "source": [
    "pickle.dump(victim_qcs, open( \"two_way_cnot_0-9.p\", \"wb\" ) )"
   ]
  }
 ],
 "metadata": {
  "kernelspec": {
   "display_name": "bench",
   "language": "python",
   "name": "python3"
  },
  "language_info": {
   "codemirror_mode": {
    "name": "ipython",
    "version": 3
   },
   "file_extension": ".py",
   "mimetype": "text/x-python",
   "name": "python",
   "nbconvert_exporter": "python",
   "pygments_lexer": "ipython3",
   "version": "3.11.0"
  },
  "orig_nbformat": 4
 },
 "nbformat": 4,
 "nbformat_minor": 2
}
